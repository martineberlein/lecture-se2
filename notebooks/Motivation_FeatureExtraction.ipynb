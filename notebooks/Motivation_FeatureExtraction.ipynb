{
 "cells": [
  {
   "cell_type": "markdown",
   "id": "9384cf81",
   "metadata": {},
   "source": [
    "# Learning Syntactical Features of Inputs"
   ]
  },
  {
   "cell_type": "markdown",
   "id": "68468992",
   "metadata": {},
   "source": [
    "<hr/>\n",
    "<div class=\"alert alert-info\">\n",
    "[Motivation]: The function <i>train_tree(data)</i> trains a decision tree on the syntactical features of the input samples and their execution outcomes.\n",
    "</div>"
   ]
  },
  {
   "cell_type": "markdown",
   "id": "33798d3f",
   "metadata": {},
   "source": [
    "## Introduction: Learning a Decision Tree"
   ]
  },
  {
   "cell_type": "markdown",
   "id": "204d800e",
   "metadata": {},
   "source": [
    "Lets import the oracle definition that states weather a bug was present or not from the helper scripts:"
   ]
  },
  {
   "cell_type": "code",
   "execution_count": null,
   "id": "23b1d09e",
   "metadata": {},
   "outputs": [],
   "source": [
    "from enum import Enum\n",
    "\n",
    "class OracleResult(Enum):\n",
    "    BUG = \"BUG\"\n",
    "    NO_BUG = \"NO_BUG\"\n",
    "    UNDEF = \"UNDEF\"\n",
    "    \n",
    "    def __repr__(self):\n",
    "        return self.value\n",
    "\n",
    "    def __str__(self):\n",
    "        return self.value"
   ]
  },
  {
   "cell_type": "markdown",
   "id": "8000ae6e",
   "metadata": {},
   "source": [
    "We will also use `scikit-learn` as the maschine-learning library. We will use the `DecisionTreeClassifier` to learn the syntactical input features that are responsible for the bug-triggering behavior of our Calculator (SUT - SubjectUnderTest). We also use the `tree` module and `graphviz` to visualize the learned decision tree."
   ]
  },
  {
   "cell_type": "code",
   "execution_count": null,
   "id": "7b1278a0",
   "metadata": {},
   "outputs": [],
   "source": [
    "from sklearn.tree import DecisionTreeClassifier\n",
    "from sklearn.feature_extraction import DictVectorizer\n",
    "from sklearn import tree\n",
    "\n",
    "import graphviz"
   ]
  },
  {
   "cell_type": "markdown",
   "id": "12dd971f",
   "metadata": {},
   "source": [
    "First, we transform the individual input features (represented as dicts) into a NumPy array. For this example, we use the following four features (`function-sqrt`, `function-cos`, `function-sin`, `number`) to describe an input feature. (Please note that this is an extremely reduced example; this is not the complete list of features that should be extracted from the `CALCULATOR` Grammar.)"
   ]
  },
  {
   "cell_type": "markdown",
   "id": "1f988912",
   "metadata": {},
   "source": [
    "The features `function-sqrt`, `function-cos`, `function-sin`state wheater the function _sqrt_, _cos_, or _sin_ was used. A `1`is given, if the sample contains the respective function, otherwise the feature contains a `0`."
   ]
  },
  {
   "cell_type": "markdown",
   "id": "98600209",
   "metadata": {},
   "source": [
    "For the each <function>(x), the `number` feature describes which value was used for `x`. For instance, the first input `sqrt(-900)` corresponds to 'function-sqrt': 1 and 'number': -900."
   ]
  },
  {
   "cell_type": "code",
   "execution_count": null,
   "id": "0018649f",
   "metadata": {},
   "outputs": [],
   "source": [
    "# Features for each input, one dict per input\n",
    "features = [\n",
    "    {'function-sqrt': 1, 'function-cos': 0, 'function-sin': 0, 'number': -900}, # sqrt(-900)\n",
    "    {'function-sqrt': 0, 'function-cos': 1, 'function-sin': 0, 'number': 300}, # cos(300)\n",
    "    {'function-sqrt': 1, 'function-cos': 0, 'function-sin': 0, 'number': -1}, # sqrt(-1)\n",
    "    {'function-sqrt': 0, 'function-cos': 1, 'function-sin': 0, 'number': -10}, # cos(-10)\n",
    "    {'function-sqrt': 0, 'function-cos': 0, 'function-sin': 1, 'number': 36}, # sin(36)\n",
    "    {'function-sqrt': 0, 'function-cos': 0, 'function-sin': 1, 'number': -58}, # sin(-58)\n",
    "    {'function-sqrt': 1, 'function-cos': 0, 'function-sin': 0, 'number': 27}, # sqrt(27)\n",
    "]"
   ]
  },
  {
   "cell_type": "markdown",
   "id": "6ec430f8",
   "metadata": {},
   "source": [
    "We define a list of lables (or oracles) that state wheather the specific input file resulted in a bug or not. We use the `OracleResult`-Class to keep everything tidy and clean."
   ]
  },
  {
   "cell_type": "code",
   "execution_count": null,
   "id": "ca812b1f",
   "metadata": {},
   "outputs": [],
   "source": [
    "# Labels for each input\n",
    "oracle = [\n",
    "    OracleResult.BUG,\n",
    "    OracleResult.NO_BUG,\n",
    "    OracleResult.BUG,\n",
    "    OracleResult.NO_BUG,\n",
    "    OracleResult.NO_BUG,\n",
    "    OracleResult.NO_BUG,\n",
    "    OracleResult.NO_BUG\n",
    "]\n",
    "\n",
    "# Transform to numpy array\n",
    "vec = DictVectorizer()\n",
    "X = vec.fit_transform(features).toarray()"
   ]
  },
  {
   "cell_type": "markdown",
   "id": "8f65ea40",
   "metadata": {},
   "source": [
    "Using the feature array and labels, we can now train a decision tree classifier as follows:"
   ]
  },
  {
   "cell_type": "code",
   "execution_count": null,
   "id": "09c735ba",
   "metadata": {},
   "outputs": [],
   "source": [
    "# Fix the random state to produce a deterministic result (for illustration purposes only)\n",
    "clf = DecisionTreeClassifier(random_state=10)\n",
    "\n",
    "# sci-kit learn requires an array of strings\n",
    "oracle_clean = [str(c) for c in oracle]\n",
    "clf = clf.fit(X, oracle_clean)"
   ]
  },
  {
   "cell_type": "markdown",
   "id": "d3186e89",
   "metadata": {},
   "source": [
    "Let's have a look at the learned decision tree:"
   ]
  },
  {
   "cell_type": "code",
   "execution_count": null,
   "id": "b54c18f2",
   "metadata": {},
   "outputs": [],
   "source": [
    "dot_data = tree.export_graphviz(clf, out_file=None, \n",
    "                                feature_names=vec.get_feature_names_out(),  \n",
    "                                class_names=[\"BUG\", \"NO BUG\"],  \n",
    "                                filled=True, rounded=True)  \n",
    "graph = graphviz.Source(dot_data)  "
   ]
  },
  {
   "cell_type": "code",
   "execution_count": null,
   "id": "5e96a217",
   "metadata": {},
   "outputs": [],
   "source": [
    "if __name__ == '__main__':\n",
    "    display(graph)"
   ]
  },
  {
   "cell_type": "markdown",
   "id": "0eaadad7",
   "metadata": {},
   "source": [
    "We can see that our initial hypothesis is that the feature `function-sqrt` must be greater than 0.5 (i.e., present) and the feature `number` must be less or equal than 13 in order to produce a bug. The decision rule is not yet perfect, thus we need to refine our decision tree!"
   ]
  },
  {
   "cell_type": "markdown",
   "id": "35f05385",
   "metadata": {},
   "source": [
    "# Decision Tree Learner"
   ]
  },
  {
   "cell_type": "markdown",
   "id": "68fed19f",
   "metadata": {},
   "source": [
    "For _Alhazen's_ second activity (Train Classification Model), your are required to write a function `train_tree(data)` that trains a decision tree on a given data frame. `train_tree(data)` should return the learned decision tree."
   ]
  },
  {
   "cell_type": "markdown",
   "id": "7d4dec43",
   "metadata": {},
   "source": [
    "```python\n",
    "\n",
    "def train_tree(data: pandas.core.frame.DataFrame) -> sklearn.tree._classes.DecisionTreeClassifier\n",
    "\n",
    "```"
   ]
  },
  {
   "cell_type": "markdown",
   "id": "9d3e439a",
   "metadata": {},
   "source": [
    "**INPUT**:\n",
    "the function requires the following parameter:\n",
    "- data: a pandas dataframe containing the parsed and extracted features and the outcome of the executed input sample (oracle). For instance, the data frame may look similar to this:"
   ]
  },
  {
   "cell_type": "markdown",
   "id": "309b70fd",
   "metadata": {},
   "source": [
    "| feature_1     | feature_2     | ...    |oracle|\n",
    "| ------------- |-------------|-------------|-----|\n",
    "| 1     | 0 | ...| 'BUG' |\n",
    "| 0     | 1 | ...| 'NO_BUG' |"
   ]
  },
  {
   "cell_type": "markdown",
   "id": "59ea5309",
   "metadata": {},
   "source": [
    "<div class=\"alert alert-danger\" role=\"alert\">\n",
    "Each row of data['oracle'] is of type OracleResult. However, sci-kit learn requires an array of strings. Convert them to learn the decision tree.\n",
    "</div>"
   ]
  },
  {
   "cell_type": "markdown",
   "id": "1ca74f4e",
   "metadata": {},
   "source": [
    "**OUTPUT**: the function should return a learned decision tree of type _sklearn.tree._classes.DecisionTreeClassifier_"
   ]
  },
  {
   "cell_type": "code",
   "execution_count": null,
   "id": "9fba1d50",
   "metadata": {},
   "outputs": [],
   "source": [
    "from sklearn import tree\n",
    "from pandas import DataFrame\n",
    "\n",
    "def train_tree(data: DataFrame)-> tree._classes.DecisionTreeClassifier:\n",
    "    \n",
    "    # write your code here\n",
    "    raise NotImplementedError(\"Func. train tree: Function not Implemented\")"
   ]
  },
  {
   "cell_type": "markdown",
   "id": "0776f773",
   "metadata": {},
   "source": [
    "Possible solution for the function `train_tree`:"
   ]
  },
  {
   "cell_type": "code",
   "execution_count": null,
   "id": "d85bdaff",
   "metadata": {},
   "outputs": [],
   "source": [
    "def train_tree(data):\n",
    "    sample_bug_count = len(data[(data[\"oracle\"].astype(str) == \"BUG\")])\n",
    "    sample_count = len(data)\n",
    "\n",
    "    clf = DecisionTreeClassifier(min_samples_leaf=1,\n",
    "                                     min_samples_split=2,  # minimal value\n",
    "                                     max_features=None,\n",
    "                                     max_depth=5, # max depth of the decision tree\n",
    "                                     class_weight={str(\"BUG\"): (1.0/sample_bug_count),\n",
    "                                                   str(\"NO_BUG\"):\n",
    "                                                       (1.0/(sample_count - sample_bug_count))})\n",
    "    clf = clf.fit(data.drop('oracle', axis=1), data['oracle'].astype(str))\n",
    "    # self.__tree = treetools.remove_infeasible(clf, features) # MARTIN: This is optional, but is a nice extesion that results in nicer decision trees\n",
    "    return clf"
   ]
  }
 ],
 "metadata": {
  "kernelspec": {
   "display_name": "Python 3 (ipykernel)",
   "language": "python",
   "name": "python3"
  },
  "language_info": {
   "codemirror_mode": {
    "name": "ipython",
    "version": 3
   },
   "file_extension": ".py",
   "mimetype": "text/x-python",
   "name": "python",
   "nbconvert_exporter": "python",
   "pygments_lexer": "ipython3",
   "version": "3.12.3"
  }
 },
 "nbformat": 4,
 "nbformat_minor": 5
}
