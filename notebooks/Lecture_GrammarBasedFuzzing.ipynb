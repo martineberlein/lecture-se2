{
 "cells": [
  {
   "cell_type": "markdown",
   "id": "ea581421",
   "metadata": {},
   "source": [
    "# First Steps towards Grammar-Based Fuzzing\n",
    "<hr/>"
   ]
  },
  {
   "cell_type": "markdown",
   "id": "12f551ae",
   "metadata": {},
   "source": [
    "In this notebook, we will learn about fuzzers and how to use them to produce failures.\n",
    "**Fuzzing** is a powerful testing technique where we feed random inputs to a program to see if it crashes or behaves unexpectedly."
   ]
  },
  {
   "cell_type": "markdown",
   "id": "d5074985",
   "metadata": {},
   "source": [
    "<div class=\"alert alert-success alertsuccess\">\n",
    "[Tip]: To execute the Python code in the code cell below, click on the cell to select it and press <kbd>Shift</kbd> + <kbd>Enter</kbd>.\n",
    "</div>"
   ]
  },
  {
   "cell_type": "code",
   "execution_count": null,
   "id": "222d5ae0",
   "metadata": {},
   "outputs": [],
   "source": [
    "print(\"Hello, this is a notebook!\")"
   ]
  },
  {
   "cell_type": "markdown",
   "id": "fc7db6a5",
   "metadata": {},
   "source": [
    "## Part 1: Simple Fuzzing"
   ]
  },
  {
   "cell_type": "markdown",
   "id": "5f72c39b",
   "metadata": {},
   "source": [
    "First, let's start with a simple fuzzing function that generates random strings."
   ]
  },
  {
   "cell_type": "code",
   "execution_count": null,
   "id": "64d7e6bb",
   "metadata": {},
   "outputs": [],
   "source": [
    "import string\n",
    "import random\n",
    "\n",
    "def simple_fuzzer(max_length=50, char_set=string.ascii_letters + string.digits + string.punctuation):\n",
    "    \"\"\"A simple fuzzer that creates a string of random characters.\"\"\"\n",
    "    length = random.randint(0, max_length)\n",
    "    return ''.join(random.choice(char_set) for _ in range(length))"
   ]
  },
  {
   "cell_type": "markdown",
   "id": "5ab22a64",
   "metadata": {},
   "source": [
    "Now, we simply need to run our fuzzing function `simple_fuzzer()` multiple times and use the output to test the program or service we're interested in."
   ]
  },
  {
   "cell_type": "code",
   "execution_count": null,
   "id": "9a97a6eb",
   "metadata": {},
   "outputs": [],
   "source": [
    "for _ in range(10):\n",
    "    print(simple_fuzzer())"
   ]
  },
  {
   "cell_type": "markdown",
   "id": "5a1a5564",
   "metadata": {},
   "source": [
    "Congratulation! We can now use this input generator to test some programs!"
   ]
  },
  {
   "cell_type": "markdown",
   "id": "5626dce3",
   "metadata": {},
   "source": [
    "## Part 2: Fuzzing a Program"
   ]
  },
  {
   "cell_type": "markdown",
   "id": "d54d8724",
   "metadata": {},
   "source": [
    "Our program under investigation is `The Calculator`. This program acts as a typical calculator, capable of evaluating not just arithmetic expressions but also trigonometric functions, such as sine, cosine, and tangent. Furthermore, it also supports the calculation of the square root of a given number."
   ]
  },
  {
   "cell_type": "code",
   "execution_count": null,
   "id": "db5245f6",
   "metadata": {},
   "outputs": [],
   "source": [
    "import math\n",
    "\n",
    "def calculator(inp: str) -> float:\n",
    "    \"\"\"\n",
    "        A simple calculator function that can evaluate arithmetic expressions \n",
    "        and perform basic trigonometric functions and square root calculations.\n",
    "    \"\"\"\n",
    "    return eval(\n",
    "        str(inp), {\"sqrt\": math.sqrt, \"sin\": math.sin, \"cos\": math.cos, \"tan\": math.tan}\n",
    "    )"
   ]
  },
  {
   "cell_type": "markdown",
   "id": "5c21a391",
   "metadata": {},
   "source": [
    "**Side Note:** In the `calculator`, we use Python's `eval` function, which takes a string and evaluates it as a Python expression. We provide a dictionary as the second argument to eval, mapping names to corresponding mathematical functions. This enables us to use the function names directly within the input string. "
   ]
  },
  {
   "cell_type": "code",
   "execution_count": null,
   "id": "07b1f7a5",
   "metadata": {},
   "outputs": [],
   "source": [
    "# Evaluating the cosine of 2π\n",
    "print(calculator('cos(6*3.141)'))"
   ]
  },
  {
   "cell_type": "code",
   "execution_count": null,
   "id": "8b9ea0d0",
   "metadata": {},
   "outputs": [],
   "source": [
    "# Calculating the square root of 36\n",
    "print(calculator('sqrt(6*6)'))"
   ]
  },
  {
   "cell_type": "markdown",
   "id": "1c87a50e",
   "metadata": {},
   "source": [
    "Each of these calls to the calculator will evaluate the provided string as a mathematical expression, and print the result."
   ]
  },
  {
   "cell_type": "markdown",
   "id": "6ea3b8fe",
   "metadata": {},
   "source": [
    "Let's introduce our `simple_fuzzer()` function to generate test inputs for the calculator() function:"
   ]
  },
  {
   "cell_type": "code",
   "execution_count": null,
   "id": "1beeae41",
   "metadata": {},
   "outputs": [],
   "source": [
    "# Using the simple_fuzzer to generate a random input for the calculator\n",
    "inp = simple_fuzzer()\n",
    "try:\n",
    "    calculator(inp)\n",
    "except Exception as e:\n",
    "    print(f\"Input '{inp}' triggered an Exception!\", e)"
   ]
  },
  {
   "cell_type": "markdown",
   "id": "f974542a",
   "metadata": {},
   "source": [
    "From the above experiment, we observe that the majority of the exceptions we encounter stem from the parsing stage of the input. As a consequence, we're unable to probe the internal functionality of our program effectively.\n",
    "\n",
    "To address this issue, we'll incorporate a basic syntax checker, `CalculatorSyntaxError`, at the onset of the calculator() function. This way, we'll be able to discern syntactically incorrect inputs early on:"
   ]
  },
  {
   "cell_type": "code",
   "execution_count": null,
   "id": "4bde044e",
   "metadata": {},
   "outputs": [],
   "source": [
    "import math\n",
    "\n",
    "class CalculatorSyntaxError(Exception):\n",
    "    \"\"\"\n",
    "    Exception raised for errors in the calculator input syntax.\n",
    "    \"\"\"\n",
    "    pass\n",
    "\n",
    "def calculator(inp: str) -> float:\n",
    "    \"\"\"\n",
    "    A simple calculator function that evaluates arithmetic and basic trigonometric functions.\n",
    "    It checks the syntax of the input string before execution.\n",
    "    \"\"\"\n",
    "    \n",
    "    if not inp.startswith(('sqrt', 'cos', 'sin', 'tan')):\n",
    "        # Simple syntax check to verify if input string starts with valid calculator functions\n",
    "        raise CalculatorSyntaxError(f\"'{inp}' is not a valid calculator input\")\n",
    "    \n",
    "    return eval(\n",
    "        str(inp), {\"sqrt\": math.sqrt, \"sin\": math.sin, \"cos\": math.cos, \"tan\": math.tan}\n",
    "    )"
   ]
  },
  {
   "cell_type": "markdown",
   "id": "2505d363",
   "metadata": {},
   "source": [
    "In this refined code, the `calculator()` function now checks whether the input string begins with one of the valid function names: 'sqrt', 'cos', 'sin', or 'tan'. If not, it raises a`CalculatorSyntaxError`, signalling that the input is syntactically incorrect."
   ]
  },
  {
   "cell_type": "code",
   "execution_count": null,
   "id": "fad0563f",
   "metadata": {},
   "outputs": [],
   "source": [
    "try:\n",
    "    calculator(simple_fuzzer())\n",
    "except CalculatorSyntaxError as e:\n",
    "    print(e)"
   ]
  },
  {
   "cell_type": "markdown",
   "id": "4bfd85ae",
   "metadata": {},
   "source": [
    "Now, to find new defects, we need to introduce an oracle that tells us if the error that is triggered is something we expect or a new/unkonwn defect. The `OracleResult` is an enum with two possible values, `NO_BUG` and `BUG`. `NO_BUG` donates a passing test case and `BUG` a failing one."
   ]
  },
  {
   "cell_type": "code",
   "execution_count": null,
   "id": "95e789f1",
   "metadata": {},
   "outputs": [],
   "source": [
    "from enum import Enum\n",
    "\n",
    "class OracleResult(Enum):\n",
    "    BUG = \"BUG\"\n",
    "    NO_BUG = \"NO_BUG\"\n",
    "    UNDEF = \"UNDEF\"\n",
    "    \n",
    "    def __repr__(self):\n",
    "        return self.value\n",
    "\n",
    "    def __str__(self):\n",
    "        return self.value"
   ]
  },
  {
   "cell_type": "markdown",
   "id": "ca4b4ec1",
   "metadata": {},
   "source": [
    "This is a function called oracle, which acts as an intermediary to handle and classify exceptions produced by the calculator function when given a certain input."
   ]
  },
  {
   "cell_type": "code",
   "execution_count": null,
   "id": "d8710f11",
   "metadata": {},
   "outputs": [],
   "source": [
    "def oracle(inp: str):\n",
    "    \"\"\"\n",
    "    This function serves as an oracle or intermediary that catches and handles exceptions \n",
    "    generated by the 'calculator' function. The oracle function is used in the context of fuzz testing.\n",
    "    It aims to determine whether an input triggers a bug in the 'calculator' function.\n",
    "\n",
    "    Args:\n",
    "        inp (str): The input string to be passed to the 'calculator' function.\n",
    "\n",
    "    Returns:\n",
    "        OracleResult: An enumerated type 'OracleResult' indicating the outcome of the function execution.\n",
    "            - OracleResult.NO_BUG: Returned if the calculator function executes without any exception or only with CalculatorSyntaxError\n",
    "            - OracleResult.BUG: Returned if the calculator function raises an exception other than CalculatorSyntaxError, indicating a potential bug.\n",
    "    \"\"\"\n",
    "    try:\n",
    "        calculator(inp)\n",
    "    except CalculatorSyntaxError as e:\n",
    "        # print(e)\n",
    "        return OracleResult.UNDEF\n",
    "    except Exception as e:\n",
    "        return OracleResult.BUG\n",
    "    \n",
    "    return OracleResult.NO_BUG"
   ]
  },
  {
   "cell_type": "markdown",
   "id": "ddedffbe",
   "metadata": {},
   "source": [
    "This **oracle** function is used in the context of fuzzing to determine the impact of various inputs on the program under test (in our case the _calculator_). When the calculator function behaves as expected (i.e., no exceptions or only CalculatorSyntaxError exceptions occur), the **oracle** function returns `OracleResult.NO_BUG`. However, when the `calculator` function raises an unexpected exception, the **oracle** interprets this as a potential bug in the `calculator` and returns `OracleResult.BUG`."
   ]
  },
  {
   "cell_type": "code",
   "execution_count": null,
   "id": "c3e7282e",
   "metadata": {},
   "outputs": [],
   "source": [
    "for _ in range(10):\n",
    "    inp = simple_fuzzer()\n",
    "    print(inp.ljust(50), oracle(inp))"
   ]
  },
  {
   "cell_type": "markdown",
   "id": "f0ee4601",
   "metadata": {},
   "source": [
    "However, using our `simple_fuzzer()`, it becomes apparent that we're unable to trigger any exceptions beyond parsing-related ones (`CalculatorSyntaxException`). This is because most of the randomly generated input strings are not valid input and are hence rejected during the parsing stage. This means that our current fuzzing approach isn't effective at testing deeper, more functional aspects of our program. Therefore, we need a more sophisticated strategy to generate test inputs that can pass the parsing stage and potentially expose functional bugs in our program."
   ]
  },
  {
   "cell_type": "markdown",
   "id": "b89e2dae",
   "metadata": {},
   "source": [
    "## Part 3: Simple Grammar-Based Fuzzing"
   ]
  },
  {
   "cell_type": "markdown",
   "id": "f33bf418",
   "metadata": {},
   "source": [
    "<div class=\"alert alert-info\">\n",
    "[Info]: We use the basic functionallity provided by <a href=\"https://www.fuzzingbook.org\">The Fuzzingbook</a>. For a more detailed description of Grammars, have a look at the chapter <a href=\"https://www.fuzzingbook.org/html/Grammars.html\">Fuzzing with Grammars</a>.\n",
    "</div>"
   ]
  },
  {
   "cell_type": "markdown",
   "id": "f4cbfaa6",
   "metadata": {},
   "source": [
    "This section focuses on implementing a grammar-based fuzzing approach. This methodology will allow us to create more complex and relevant input strings, which have a higher likelihood of triggering deeper, non-syntactic bugs in the target program."
   ]
  },
  {
   "cell_type": "code",
   "execution_count": null,
   "id": "02c7d431",
   "metadata": {},
   "outputs": [],
   "source": [
    "from typing import Dict, List\n",
    "\n",
    "# A grammar in the context of our fuzzing approach is a dictionary where:\n",
    "# - The keys are nonterminal symbols, representing a category of expressions or structures.\n",
    "# - The values are lists of possible expansions or rules for each nonterminal symbol.\n",
    "Grammar = Dict[str, List[str]]"
   ]
  },
  {
   "cell_type": "markdown",
   "id": "4176de87",
   "metadata": {},
   "source": [
    "In this definition, a `Grammar` is a Python dictionary. Each key-value pair represents a rule in our grammar:\n",
    "- The key is a str that serves as a nonterminal symbol. Nonterminal symbols are placeholders for patterns or structures that can be expanded or replaced with other symbols (which can be terminal or nonterminal).\n",
    "- The value is a List[str] that provides the potential expansions for that nonterminal symbol. Each string in this list is a rule that describes one possible form the nonterminal symbol can take. It can consist of a combination of terminal and nonterminal symbols.\n",
    "\n",
    "Using such a grammar structure helps guide our fuzzer to generate more meaningful and diverse inputs for testing."
   ]
  },
  {
   "cell_type": "markdown",
   "id": "3cb0da9a",
   "metadata": {},
   "source": [
    "The following code represents a simple context-free grammar for our calculator function. This grammar encompasses all the potential valid inputs to the calculator, which include mathematical expressions involving square roots, trigonometric functions, and integer and decimal numbers:"
   ]
  },
  {
   "cell_type": "code",
   "execution_count": null,
   "id": "55d74b4b",
   "metadata": {},
   "outputs": [],
   "source": [
    "calculator_grammar = {\n",
    "    \"<start>\":\n",
    "        [\"<function>(<term>)\"],\n",
    "\n",
    "    \"<function>\":\n",
    "        [\"sqrt\", \"tan\", \"cos\", \"sin\"],\n",
    "    \n",
    "    \"<term>\": [\"-<value>\", \"<value>\"], \n",
    "    \n",
    "    \"<value>\":\n",
    "        [\"<integer>.<integer>\",\n",
    "         \"<integer>\"],\n",
    "\n",
    "    \"<integer>\":\n",
    "        [\"<digit><integer>\", \"<digit>\"],\n",
    "\n",
    "    \"<digit>\":\n",
    "        [\"1\", \"2\", \"3\", \"4\", \"5\", \"6\", \"7\", \"8\", \"9\"]\n",
    "}"
   ]
  },
  {
   "cell_type": "markdown",
   "id": "0f0d1f35",
   "metadata": {},
   "source": [
    "Each key-value pair in the calculator_grammar dictionary defines a nonterminal symbol (as the key) and its potential expansions (as the values). The fuzzer will use this grammar to generate valid mathematical expressions for testing the calculator."
   ]
  },
  {
   "cell_type": "code",
   "execution_count": null,
   "id": "c66a22ae",
   "metadata": {},
   "outputs": [],
   "source": [
    "from fuzzingbook.Grammars import nonterminals\n",
    "import random\n",
    "\n",
    "class ExpansionError(Exception):\n",
    "    \"\"\"\n",
    "    Exception raised for errors in the expansion process.\n",
    "    \"\"\"\n",
    "    pass\n",
    "\n",
    "\n",
    "def simple_grammar_fuzzer(grammar: Grammar, \n",
    "                          start_symbol: str = \"<start>\",\n",
    "                          max_nonterminals: int = 3,\n",
    "                          max_expansion_trials: int = 100,\n",
    "                          log: bool = False) -> str:\n",
    "    \"\"\"\n",
    "    A simple grammar fuzzer that generates strings based on a given grammar.\n",
    "\n",
    "    Args:\n",
    "        grammar (Grammar): The grammar based on which the strings are generated.\n",
    "        start_symbol (str, optional): The symbol in the grammar where the fuzzer begins generation. Defaults to \"<start>\".\n",
    "        max_nonterminals (int, optional): The maximum number of nonterminals allowed in an expanded string. \n",
    "            Prevents the generation of excessively large strings. Defaults to 10.\n",
    "        max_expansion_trials (int, optional): The maximum number of attempts to expand a nonterminal. \n",
    "            Prevents infinite loops in grammar expansion. Defaults to 100.\n",
    "        log (bool, optional): If set to True, prints the expansion progress. Defaults to False.\n",
    "\n",
    "    Returns:\n",
    "        str: The generated string based on the provided grammar.\n",
    "\n",
    "    Raises:\n",
    "        ExpansionError: If the maximum number of expansion trials is reached without a valid expansion.\n",
    "    \"\"\"\n",
    "\n",
    "    term = start_symbol # <start>\n",
    "    expansion_trials = 0\n",
    "\n",
    "    while len(nonterminals(term)) > 0:\n",
    "        # Select a nonterminal symbol from the current term\n",
    "        symbol_to_expand = random.choice(nonterminals(term)) #1\n",
    "\n",
    "        # Select a random expansion for this symbol\n",
    "        expansions = grammar[symbol_to_expand] # [<function>(<term>)]\n",
    "        expansion = random.choice(expansions) # <function>(<term>)\n",
    "\n",
    "        # Replace the chosen nonterminal symbol with the new expansion\n",
    "        new_term = term.replace(symbol_to_expand, expansion, 1)\n",
    "\n",
    "        # Check if the number of nonterminals in the new term is below the threshold\n",
    "        if len(nonterminals(new_term)) < max_nonterminals:\n",
    "            term = new_term\n",
    "            if log:\n",
    "                # Log the current replacement and the resulting term\n",
    "                print(f\"{symbol_to_expand} -> {expansion}\".ljust(40), term)\n",
    "            expansion_trials = 0\n",
    "        else:\n",
    "            # If we can't find a suitable expansion after max_expansion_trials, raise an error\n",
    "            expansion_trials += 1\n",
    "            if expansion_trials >= max_expansion_trials:\n",
    "                raise ExpansionError(f\"Cannot expand {repr(term)}\")\n",
    "\n",
    "    return term"
   ]
  },
  {
   "cell_type": "markdown",
   "id": "bab22382",
   "metadata": {},
   "source": [
    "This function generates strings based on a provided grammar. It starts from a starting symbol and randomly expands one of the nonterminals in the current string. It continues this process until there are no nonterminals left or the number of nonterminals exceeds a specified maximum. The function also keeps track of the number of expansion trials to prevent infinite loops in grammar expansion."
   ]
  },
  {
   "cell_type": "code",
   "execution_count": null,
   "id": "64e3fa2d",
   "metadata": {},
   "outputs": [],
   "source": [
    "simple_grammar_fuzzer(grammar=calculator_grammar, log=True)"
   ]
  },
  {
   "cell_type": "markdown",
   "id": "5ec39ea1",
   "metadata": {},
   "source": [
    "Let's put our `simple_grammar_fuzzer()` to the test by applying it to our `calculator`. For each input, we print the input string itself along with the result as determined by our oracle function. This helps us to see the variety of inputs that our fuzzer can generate and the different outcomes they lead to in our calculator function:"
   ]
  },
  {
   "cell_type": "code",
   "execution_count": null,
   "id": "fb984820",
   "metadata": {},
   "outputs": [],
   "source": [
    "# Generating and testing 10 inputs using our simple grammar-based fuzzer\n",
    "for _ in range(10):\n",
    "    inp = simple_grammar_fuzzer(grammar=calculator_grammar)\n",
    "    print(inp.ljust(40), oracle(inp))"
   ]
  },
  {
   "cell_type": "markdown",
   "id": "50989364",
   "metadata": {},
   "source": [
    "With the employment of our simple_grammar_fuzzer, we have successfully revealed some genuine bugs in our calculator. Our fuzzer's ability to generate varied, grammar-conformant inputs has enabled a more comprehensive exploration of the calculator's functionality, resulting in the identification of these issues."
   ]
  },
  {
   "cell_type": "markdown",
   "id": "1dfbd0a0",
   "metadata": {},
   "source": [
    "## Part 4: Probabilistic Grammar-Based Fuzzing"
   ]
  },
  {
   "cell_type": "markdown",
   "id": "4b8fbe92",
   "metadata": {},
   "source": [
    "<div class=\"alert alert-info\">\n",
    "[Info]: For this chapter on probabilistic fuzzing, we use the functions provided by <a href=\"https://www.fuzzingbook.org\">The Fuzzingbook</a>. For a more detailed description of the ProbabilisticGrammarFuzzer, have a look at the chapter <a href=\"https://www.fuzzingbook.org/html/ProbabilisticGrammarFuzzer.html\">Probabilistic Grammar Fuzzing</a>.\n",
    "</div>"
   ]
  },
  {
   "cell_type": "markdown",
   "id": "bce191fa",
   "metadata": {},
   "source": [
    "In the next section, we delve into \"Probabilistic Grammar-Based Fuzzing\". An essential aspect of this approach is harnessing the concept of probability distribution. To illustrate this, we consider the Law of Leading Digits, also known as Benford's Law."
   ]
  },
  {
   "cell_type": "markdown",
   "id": "f94e7372",
   "metadata": {},
   "source": [
    "## Law of the leading digits"
   ]
  },
  {
   "cell_type": "markdown",
   "id": "6e6499c3",
   "metadata": {},
   "source": [
    "Benford's Law reveals a surprising phenomenon about leading digits in many sets of numerical data: smaller numbers tend to occur as the leading digits more frequently. Specifically, '1' appears as the leading digit about 30% of the time, while '9' appears just under 5% of the time.\n",
    "\n",
    "We can calculate the probability of each leading digit (1 through 9) occurring using the following formula:"
   ]
  },
  {
   "cell_type": "code",
   "execution_count": null,
   "id": "25f978fd",
   "metadata": {},
   "outputs": [],
   "source": [
    "def prob_leading_digit(d: int) -> float:\n",
    "    \"\"\"Calculates the probability of a digit to be the leading digit\n",
    "    according to Benford's Law.\n",
    "    \"\"\"\n",
    "    return math.log10(d + 1) - math.log10(d)"
   ]
  },
  {
   "cell_type": "code",
   "execution_count": null,
   "id": "9a023455",
   "metadata": {},
   "outputs": [],
   "source": [
    "import math\n",
    "digit_probs = [prob_leading_digit(d) for d in range(1, 10)]\n",
    "[(d, \"%.3f\" % digit_probs[d - 1]) for d in range(1, 10)]"
   ]
  },
  {
   "cell_type": "markdown",
   "id": "ed469882",
   "metadata": {},
   "source": [
    "We observe that smaller digits indeed have higher probabilities, as per Benford's Law. This understanding will guide us when we apply probabilities in grammar-based fuzzing."
   ]
  },
  {
   "cell_type": "markdown",
   "id": "4f3399f0",
   "metadata": {},
   "source": [
    "Next, we incorporate the concept of Benford's Law into our Calculator grammar. By doing this, we assign probabilities to the leading digits, thereby transforming our grammar into a probabilistic grammar:"
   ]
  },
  {
   "cell_type": "code",
   "execution_count": null,
   "id": "1c09ff64",
   "metadata": {},
   "outputs": [],
   "source": [
    "from fuzzingbook.Grammars import is_valid_grammar\n",
    "from fuzzingbook.Grammars import opts\n",
    "from fuzzingbook.Grammars import Grammar\n",
    "\n",
    "\n",
    "probabilistic_calculator_grammar = {\n",
    "    \"<start>\":\n",
    "        [\"<function>(<term>)\"],\n",
    "\n",
    "    \"<function>\":\n",
    "        [\"sqrt\", \"tan\", \"cos\", \"sin\"],\n",
    "    \n",
    "    \"<term>\": [\"-<value>\", \"<value>\"], \n",
    "    \n",
    "    \"<value>\":\n",
    "        [\"<leadinteger>.<integer>\",\n",
    "         \"<leadinteger>\"],\n",
    "\n",
    "    \"<leadinteger>\":\n",
    "        [\"<leaddigit><integer>\", \"<leaddigit>\"],\n",
    "    \n",
    "    # Benford's law: frequency distribution of leading digits\n",
    "    \"<leaddigit>\":\n",
    "        [(\"1\", opts(prob=0.301)),\n",
    "         (\"2\", opts(prob=0.176)),\n",
    "         (\"3\", opts(prob=0.125)),\n",
    "         (\"4\", opts(prob=0.097)),\n",
    "         (\"5\", opts(prob=0.079)),\n",
    "         (\"6\", opts(prob=0.067)),\n",
    "         (\"7\", opts(prob=0.058)),\n",
    "         (\"8\", opts(prob=0.051)),\n",
    "         (\"9\", opts(prob=0.046)),\n",
    "         ],\n",
    "\n",
    "    # Remaining digits are equally distributed\n",
    "    \"<integer>\":\n",
    "        [\"<digit><integer>\", \"<digit>\"],\n",
    "\n",
    "    \"<digit>\":\n",
    "        [\"0\", \"1\", \"2\", \"3\", \"4\", \"5\", \"6\", \"7\", \"8\", \"9\"],\n",
    "}\n",
    "\n",
    "assert is_valid_grammar(probabilistic_calculator_grammar)"
   ]
  },
  {
   "cell_type": "markdown",
   "id": "3b3501af",
   "metadata": {},
   "source": [
    "In this updated grammar, we differentiate between `<leaddigit>` and `<digit>`. For `<leaddigit>`, each option (from \"1\" to \"9\") is assigned a probability value based on Benford's Law. This creates a probabilistic bias towards lower digits for the leading digit of a number. The rest of the digits (`<digit>`), however, maintain a uniform distribution."
   ]
  },
  {
   "cell_type": "markdown",
   "id": "c8504253",
   "metadata": {},
   "source": [
    "We are now prepared to utilize our newly formed probabilistic grammar to generate inputs for our calculator. These inputs will inherently adhere to Benford's Law due to the probabilities assigned in our grammar:"
   ]
  },
  {
   "cell_type": "code",
   "execution_count": null,
   "id": "39ac6dab",
   "metadata": {},
   "outputs": [],
   "source": [
    "from fuzzingbook.ProbabilisticGrammarFuzzer import ProbabilisticGrammarFuzzer\n",
    "\n",
    "fuzzer = ProbabilisticGrammarFuzzer(probabilistic_calculator_grammar)\n",
    "\n",
    "for i in range(20):\n",
    "    print(fuzzer.fuzz())"
   ]
  },
  {
   "cell_type": "markdown",
   "id": "7dde1bb0",
   "metadata": {},
   "source": [
    "This script initiates a new instance of the `ProbabilisticGrammarFuzzer`from the\n",
    "`fuzzingbook` using our `probabilistic_calculator_grammar`. Then, we generate and print 10 fuzzed inputs, demonstrating the integration of Benford's Law within our fuzzing approach."
   ]
  },
  {
   "cell_type": "markdown",
   "id": "c4bd8b01",
   "metadata": {},
   "source": [
    "## Part 4.1 Input Generation Strategies: Learning from Samples"
   ]
  },
  {
   "cell_type": "markdown",
   "id": "ade34f7f",
   "metadata": {},
   "source": [
    "###  Common Input Generation ( Give me `More of the Same`)"
   ]
  },
  {
   "cell_type": "markdown",
   "id": "6f4c400a",
   "metadata": {},
   "source": [
    "By analyzing and learning from a collection of typical examples, we can derive a \"typical\" probability distribution. This, in turn, enables us to generate more \"typical\" or \"common\" inputs. This is particularly beneficial in regression testing, where we want to ensure that the system's existing functionalities continue to work as expected with standard, frequently observed inputs."
   ]
  },
  {
   "cell_type": "code",
   "execution_count": null,
   "id": "a2b0284a",
   "metadata": {},
   "outputs": [],
   "source": [
    "# Let's import the Probabilistic Grammar Miner\n",
    "from fuzzingbook.ProbabilisticGrammarFuzzer import ProbabilisticGrammarMiner\n",
    "from fuzzingbook.Parser import EarleyParser\n",
    "\n",
    "# We instantiate a miner with the earley parser\n",
    "probabilistic_grammar_miner = ProbabilisticGrammarMiner(\n",
    "    EarleyParser(calculator_grammar))"
   ]
  },
  {
   "cell_type": "markdown",
   "id": "a2ca18ba",
   "metadata": {},
   "source": [
    "To extrapolate a probabilistic grammar from a set of sample inputs, we invoke the `mine_probabilistic_grammar()` function with a list of inputs. Here, we provide a couple of sample arithmetic expressions. Then, we derive a new probabilistic grammar, which reflects the characteristics of our provided inputs:"
   ]
  },
  {
   "cell_type": "code",
   "execution_count": null,
   "id": "c2684904",
   "metadata": {},
   "outputs": [],
   "source": [
    "# to learn from a set of samples you can invoke the function mine_probabilistic_grammar(List[str])\n",
    "inputs = ['sqrt(36)', 'cos(6.282)']\n",
    "\n",
    "learned_probabilistic_grammar = probabilistic_grammar_miner.mine_probabilistic_grammar(\n",
    "    inputs)"
   ]
  },
  {
   "cell_type": "code",
   "execution_count": null,
   "id": "80a5f7c2",
   "metadata": {},
   "outputs": [],
   "source": [
    "from pprint import pprint\n",
    "\n",
    "pprint(learned_probabilistic_grammar['<integer>'])"
   ]
  },
  {
   "cell_type": "markdown",
   "id": "6c50fa37",
   "metadata": {},
   "source": [
    "This way, the learned grammar is reflective of the sample inputs, allowing us to generate similar \"typical\" or \"common\" inputs for testing."
   ]
  },
  {
   "cell_type": "markdown",
   "id": "d512881c",
   "metadata": {},
   "source": [
    "Moving forward, let's create a new fuzzer using the probabilistic grammar we just derived:"
   ]
  },
  {
   "cell_type": "code",
   "execution_count": null,
   "id": "423ec947",
   "metadata": {},
   "outputs": [],
   "source": [
    "from fuzzingbook.ProbabilisticGrammarFuzzer import ProbabilisticGrammarFuzzer\n",
    "\n",
    "# Instantiate a new fuzzer\n",
    "fuzzer = ProbabilisticGrammarFuzzer(learned_probabilistic_grammar, min_nonterminals=3)"
   ]
  },
  {
   "cell_type": "markdown",
   "id": "e9f37971",
   "metadata": {},
   "source": [
    "This fuzzer, which has been instantiated with the grammar learned from the provided inputs, will generate fuzzed inputs that exhibit similar characteristics to those initial inputs. Let's demonstrate this by generating and printing 10 fuzzed inputs:"
   ]
  },
  {
   "cell_type": "code",
   "execution_count": null,
   "id": "436bf622",
   "metadata": {},
   "outputs": [],
   "source": [
    "# Generated inputs will be similar to the initial inputs\n",
    "for i in range(20):\n",
    "    print(fuzzer.fuzz())"
   ]
  },
  {
   "cell_type": "markdown",
   "id": "6e8413b0",
   "metadata": {},
   "source": [
    "Through this, you can observe how the inputs generated by the fuzzer are similar to the samples we provided, which serves to demonstrate the power of **probabilistic grammar-based fuzzing**."
   ]
  },
  {
   "cell_type": "markdown",
   "id": "73ee017d",
   "metadata": {},
   "source": [
    "### Learning from failure inducing inputs"
   ]
  },
  {
   "cell_type": "markdown",
   "id": "a2a3654f",
   "metadata": {},
   "source": [
    "Now, let's leverage the Probabilistic Grammar Miner to ascertain the distribution of inputs that induce failure:\n",
    "\n",
    "By analyzing and learning from inputs that have previously led to failures, we can generate similar inputs that effectively probe the areas around the original, failure-inducing inputs. This is highly valuable in assessing the thoroughness of applied fixes."
   ]
  },
  {
   "cell_type": "markdown",
   "id": "cc098fda",
   "metadata": {},
   "source": [
    "For each of these failure-inducing inputs, we print the input itself and its corresponding oracle result:"
   ]
  },
  {
   "cell_type": "code",
   "execution_count": null,
   "id": "a35c98ad",
   "metadata": {},
   "outputs": [],
   "source": [
    "# Failure inducing Inputs\n",
    "failure_inducing_samples = ['sqrt(-24)', 'sqrt(-2)']\n",
    "\n",
    "for inp in failure_inducing_samples:\n",
    "    print(inp.ljust(20), oracle(inp))"
   ]
  },
  {
   "cell_type": "markdown",
   "id": "31dfc142",
   "metadata": {},
   "source": [
    "Next, we initialize a new Grammar Miner with the Earley Parser, employing our original calculator grammar. We then use this miner to learn the distribution of the failure-inducing samples. Subsequently, we generate and print 10 similar samples using a fuzzer instantiated with the learned probabilistic grammar:"
   ]
  },
  {
   "cell_type": "code",
   "execution_count": null,
   "id": "fe8a9fcc",
   "metadata": {},
   "outputs": [],
   "source": [
    "# New Prob. Grammar Miner for the CALCULATOR Grammar\n",
    "probabilistic_grammar_miner = ProbabilisticGrammarMiner(\n",
    "    EarleyParser(calculator_grammar))\n",
    "\n",
    "# Lets learn the distribution of the failure inducing samples\n",
    "learned_probabilistic_grammar = probabilistic_grammar_miner.mine_probabilistic_grammar(\n",
    "    failure_inducing_samples)\n",
    "\n",
    "# Generate similar samples\n",
    "fuzzer = ProbabilisticGrammarFuzzer(learned_probabilistic_grammar, min_nonterminals=3)\n",
    "\n",
    "for _ in range(10):\n",
    "    inp = fuzzer.fuzz()\n",
    "    print(inp.ljust(20), oracle(inp))"
   ]
  },
  {
   "cell_type": "markdown",
   "id": "1fb1a14e",
   "metadata": {},
   "source": [
    "These new samples, while not identical to the original failure-inducing inputs, will bear similar traits and are likely to challenge the robustness of any implemented fixes.\n",
    "\n"
   ]
  },
  {
   "cell_type": "markdown",
   "id": "4265ee41",
   "metadata": {},
   "source": [
    "## Part 5: Evolutionary Grammar Based Input Generation"
   ]
  },
  {
   "cell_type": "code",
   "execution_count": null,
   "id": "7d0055d0",
   "metadata": {},
   "outputs": [],
   "source": [
    "# you might need to install the latest version of evogfuzz\n",
    "# uncomment to install via pip\n",
    "#!pip install evogfuzz"
   ]
  },
  {
   "cell_type": "code",
   "execution_count": null,
   "id": "fc38ce5a",
   "metadata": {},
   "outputs": [],
   "source": [
    "from evogfuzz.oracle import OracleResult\n",
    "\n",
    "def oracle(inp: str):\n",
    "    try:\n",
    "        calculator(str(inp))\n",
    "    except CalculatorSyntaxError as e:\n",
    "        # print(e)\n",
    "        return OracleResult.NO_BUG\n",
    "    except Exception as e:\n",
    "        return OracleResult.BUG\n",
    "    \n",
    "    return OracleResult.NO_BUG"
   ]
  },
  {
   "cell_type": "code",
   "execution_count": null,
   "id": "39c970b6",
   "metadata": {},
   "outputs": [],
   "source": [
    "from evogfuzz.evogfuzz_class import EvoGGen\n",
    "\n",
    "evo = EvoGGen(\n",
    "    grammar=calculator_grammar,\n",
    "    oracle=oracle,\n",
    "    inputs=['sqrt(-1)'],\n",
    "    transform_grammar=True,\n",
    "    iterations=15\n",
    ")\n",
    "generated_grammar, failing_inputs = evo.optimize()"
   ]
  },
  {
   "cell_type": "code",
   "execution_count": null,
   "id": "1d88b71e",
   "metadata": {},
   "outputs": [],
   "source": [
    "for inp in list(failing_inputs)[:20]:\n",
    "    print(inp)"
   ]
  },
  {
   "cell_type": "code",
   "execution_count": null,
   "id": "2b06e363-6b89-4448-87b9-26b85e99faa8",
   "metadata": {},
   "outputs": [],
   "source": []
  },
  {
   "cell_type": "code",
   "execution_count": null,
   "id": "c25d57f0",
   "metadata": {},
   "outputs": [],
   "source": [
    "from pprint import pprint\n",
    "\n",
    "pprint(generated_grammar)"
   ]
  },
  {
   "cell_type": "code",
   "execution_count": null,
   "id": "54d9de71",
   "metadata": {},
   "outputs": [],
   "source": [
    "from fuzzingbook.ProbabilisticGrammarFuzzer import ProbabilisticGrammarFuzzer\n",
    "\n",
    "fuzzer = ProbabilisticGrammarFuzzer(generated_grammar)\n",
    "for _ in range(10):\n",
    "    inp = fuzzer.fuzz()\n",
    "    print(inp.ljust(40), oracle(inp))"
   ]
  },
  {
   "cell_type": "markdown",
   "id": "6d3ca830",
   "metadata": {},
   "source": [
    "## Part 5: Explaining Bugs"
   ]
  },
  {
   "cell_type": "code",
   "execution_count": null,
   "id": "94162267",
   "metadata": {},
   "outputs": [],
   "source": [
    "# you might need to install the latest version of alhazen-py\n",
    "# uncomment to install via pip\n",
    "!pip install alhazen-py"
   ]
  },
  {
   "cell_type": "code",
   "execution_count": null,
   "id": "60b9c927",
   "metadata": {},
   "outputs": [],
   "source": [
    "from alhazen.oracle import OracleResult\n",
    "\n",
    "def oracle(inp: str):\n",
    "    try:\n",
    "        calculator(str(inp))\n",
    "    except CalculatorSyntaxError as e:\n",
    "        # print(e)\n",
    "        return OracleResult.NO_BUG\n",
    "    except Exception as e:\n",
    "        return OracleResult.BUG\n",
    "    \n",
    "    return OracleResult.NO_BUG"
   ]
  },
  {
   "cell_type": "code",
   "execution_count": null,
   "id": "51ca71d2",
   "metadata": {},
   "outputs": [],
   "source": [
    "from alhazen.alhazen import Alhazen\n",
    "from alhazen.features import NUMERIC_INTERPRETATION_FEATURE, EXISTENCE_FEATURE\n",
    "\n",
    "alhazen = Alhazen(\n",
    "    grammar=calculator_grammar,\n",
    "    initial_inputs=[\"sqrt(-1)\", \"cos(9)\"],\n",
    "    evaluation_function=oracle,\n",
    "    features={NUMERIC_INTERPRETATION_FEATURE, EXISTENCE_FEATURE},\n",
    "    max_iter=20,\n",
    ")\n",
    "\n",
    "alhazen.run()\n",
    "alhazen.show_model()"
   ]
  },
  {
   "cell_type": "code",
   "execution_count": null,
   "id": "2811b558",
   "metadata": {},
   "outputs": [],
   "source": []
  },
  {
   "cell_type": "code",
   "execution_count": null,
   "id": "427076f0",
   "metadata": {},
   "outputs": [],
   "source": []
  }
 ],
 "metadata": {
  "kernelspec": {
   "display_name": "Python 3 (ipykernel)",
   "language": "python",
   "name": "python3"
  },
  "language_info": {
   "codemirror_mode": {
    "name": "ipython",
    "version": 3
   },
   "file_extension": ".py",
   "mimetype": "text/x-python",
   "name": "python",
   "nbconvert_exporter": "python",
   "pygments_lexer": "ipython3",
   "version": "3.12.3"
  }
 },
 "nbformat": 4,
 "nbformat_minor": 5
}
