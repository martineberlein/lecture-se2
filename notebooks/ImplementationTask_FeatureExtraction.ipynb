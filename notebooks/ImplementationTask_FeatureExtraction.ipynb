{
 "cells": [
  {
   "cell_type": "markdown",
   "id": "4db5775b",
   "metadata": {},
   "source": [
    "# Implementation Task: Feature Extraction"
   ]
  },
  {
   "cell_type": "markdown",
   "id": "6a97d5cf",
   "metadata": {},
   "source": [
    "<div class=\"alert alert-success alertsuccess\">\n",
    "[Task] Implement the functions <i>extract_existence</i>, <i>extract_numeric</i>, and <i>collect_features</i> to extract all possible features from a grammar and to parse each input file into its individual features.\n",
    "</div>"
   ]
  },
  {
   "cell_type": "markdown",
   "id": "0ed1e0ff",
   "metadata": {},
   "source": [
    "## Overview\n",
    "\n",
    "This task revolves around the problem of semantic feature extraction from inputs. Specifically, the task is guided by the methods outlined in the tool Alhazen which proposes various features based on the input grammar such as *existence* and *numeric interpretation*. These features are then retrieved from the parsed trees of the inputs. For further details, please refer to [Section 3 of the Alhazen paper](https://publications.cispa.saarland/3107/7/fse2020-alhazen.pdf).\n",
    "\n",
    "The feature extraction task is broken down into the following key tasks **[60 points]**:\n",
    "\n",
    "1. **(Implementation of Individual Feature Classes):** Implement feature classes. Instances of these classes will be used to obtain specific feature values from inputs.\n",
    "\n",
    "2. **Feature Extraction from Grammar:** Extract features from the grammar through the instantiation of the feature classes created in the previous step. **[20 points + 20 points]**\n",
    "\n",
    "3. **Computation of Feature Vectors:** Compute feature vectors from a set of inputs. These vectors will subsequently be utilized as inputs for the decision tree to learn the circumstances of a program's failure. **[20 points]**\n",
    "\n",
    "This hands-on task will give you an opportunity to apply the concepts we've discussed so far and put your programming and problem-solving skills into practice. Good luck!"
   ]
  },
  {
   "cell_type": "markdown",
   "id": "cb077ea0",
   "metadata": {},
   "source": [
    "<div class=\"alert alert-info\">\n",
    "[Info]: For more information about parsing inputs with a grammar, we recommand to have a look at the chapters <a href=\"https://www.fuzzingbook.org/html/Grammars.html\">Fuzzing with Grammars</a> and <a href=\"https://www.fuzzingbook.org/html/Parser.html\">Parsing Inputs</a> of the fuzzingbook.\n",
    "</div>"
   ]
  },
  {
   "cell_type": "code",
   "execution_count": null,
   "id": "2408eee5",
   "metadata": {},
   "outputs": [],
   "source": [
    "from typing import Tuple, List, Optional, Any, Union, Set, Callable, Dict\n",
    "DerivationTree = Tuple[str, Optional[List[Any]]]"
   ]
  },
  {
   "cell_type": "markdown",
   "id": "346fc70d",
   "metadata": {},
   "source": [
    "## Calculator Grammar Definition:\n",
    "\n",
    "Let's start by defining the grammar for our calculator. We'll import the necessary components from the Fuzzingbook's `Grammars` module and then create our grammar.\n",
    " grammar"
   ]
  },
  {
   "cell_type": "code",
   "execution_count": null,
   "id": "c4344f40",
   "metadata": {},
   "outputs": [],
   "source": [
    "from fuzzingbook.Grammars import Grammar, is_valid_grammar\n",
    "\n",
    "calculator_grammar = {\n",
    "    \"<start>\":\n",
    "        [\"<function>(<term>)\"],\n",
    "\n",
    "    \"<function>\":\n",
    "        [\"sqrt\", \"tan\", \"cos\", \"sin\"],\n",
    "    \n",
    "    \"<term>\": [\"-<value>\", \"<value>\"], \n",
    "    \n",
    "    \"<value>\":\n",
    "        [\"<integer>.<integer>\",\n",
    "         \"<integer>\"],\n",
    "\n",
    "    \"<integer>\":\n",
    "        [\"<digit><integer>\", \"<digit>\"],\n",
    "\n",
    "    \"<digit>\":\n",
    "        [\"0\", \"1\", \"2\", \"3\", \"4\", \"5\", \"6\", \"7\", \"8\", \"9\"]\n",
    "}\n",
    "\n",
    "# Check if the grammar is valid\n",
    "assert is_valid_grammar(calculator_grammar)"
   ]
  },
  {
   "cell_type": "markdown",
   "id": "0c44f3aa",
   "metadata": {},
   "source": [
    "Our grammar for the calculator includes function names, arithmetic operations, and numeric values. By defining these elements and their possible combinations, we create a valid structure for the calculator's input. It's important to ensure the grammar's validity as it determines the success of further operations and manipulations.\n"
   ]
  },
  {
   "cell_type": "markdown",
   "id": "992721b0",
   "metadata": {},
   "source": [
    "## Implementing the feature classes"
   ]
  },
  {
   "cell_type": "markdown",
   "id": "75cdb230",
   "metadata": {},
   "source": [
    "We'll begin with the implementation of the abstract base class Feature, which will serve as a template for different grammar features. This class will define the core structure and methods that every feature class should implement."
   ]
  },
  {
   "cell_type": "code",
   "execution_count": null,
   "id": "b22c9a8d",
   "metadata": {},
   "outputs": [],
   "source": [
    "from abc import ABC, abstractmethod\n",
    "\n",
    "class Feature(ABC):\n",
    "    '''\n",
    "    This is the abstract base class for grammar features.\n",
    "    Any specific feature class should inherit from this base class and implement its abstract methods.\n",
    "    \n",
    "    Args:\n",
    "        name : A unique identifier for this feature. It should not contain white spaces. \n",
    "               For example, 'type(<feature>@1)'.\n",
    "        rule : The production rule associated with this feature (e.g., '<function>' or '<value>').\n",
    "        key  : The specific attribute of the feature (e.g., the chosen alternative or the rule itself).\n",
    "    '''\n",
    "    \n",
    "    def __init__(self, name: str, rule: str, key: str) -> None:\n",
    "        self.name = name\n",
    "        self.rule = rule\n",
    "        self.key = key\n",
    "        super().__init__()\n",
    "    \n",
    "    @abstractmethod\n",
    "    def __repr__(self) -> str:\n",
    "        '''Returns a string representation of the feature that\n",
    "        can be printed for debugging or logging purposes.'''\n",
    "        pass\n",
    "    \n",
    "    @abstractmethod\n",
    "    def get_feature_value(self, derivation_tree) -> float:\n",
    "        '''Computes and returns the feature value based on a given derivation tree of an input.\n",
    "        The exact computation depends on the specific feature class.'''\n",
    "        pass\n"
   ]
  },
  {
   "cell_type": "markdown",
   "id": "4d3c3038",
   "metadata": {},
   "source": [
    "The `ExistenceFeature` class, derived from the base`Feature` class, represents existence features of a grammar. Existence features denote the usage of a specific production rule in the derivation sequence of an input."
   ]
  },
  {
   "cell_type": "code",
   "execution_count": null,
   "id": "6259d49d",
   "metadata": {},
   "outputs": [],
   "source": [
    "from fuzzingbook.GrammarFuzzer import expansion_to_children\n",
    "\n",
    "class ExistenceFeature(Feature):\n",
    "    '''\n",
    "    This class captures the existence features of a grammar. The existence features indicate \n",
    "    whether a specific production rule was used in the derivation sequence of an input. \n",
    "    For a given production rule P -> A | B, a production existence feature for P and \n",
    "    alternative existence features for each alternative (i.e., A and B) are defined.\n",
    "    \n",
    "    Args:\n",
    "        name : A unique identifier for this feature. It should not contain white spaces. \n",
    "               For example, 'exist(<digit>@1)'.\n",
    "        rule : The production rule associated with this feature.\n",
    "        key  : The feature key, which is equal to the rule attribute for production features, \n",
    "               or corresponds to the respective alternative for alternative features.\n",
    "    '''\n",
    "    def __init__(self, name: str, rule: str, key: str) -> None:\n",
    "        super().__init__(name, rule, key)\n",
    "    \n",
    "    def __repr__(self) -> str:\n",
    "        '''Returns a string representation of the feature.'''\n",
    "        if self.rule == self.key:\n",
    "            return f\"exists({self.rule})\"\n",
    "        else:\n",
    "            return f\"exists({self.rule} == {self.key})\"\n",
    "    \n",
    "    def get_feature_value(self, derivation_tree) -> float:\n",
    "        '''Computes and returns the feature value based on a given derivation tree of an input.'''\n",
    "        raise NotImplementedError  # You need to implement this method for the feature collection task\n"
   ]
  },
  {
   "cell_type": "markdown",
   "id": "fe769be7",
   "metadata": {},
   "source": [
    "#### NumericInterpretation Feature"
   ]
  },
  {
   "cell_type": "markdown",
   "id": "17dfc169",
   "metadata": {},
   "source": [
    "The `NumericInterpretation` class, a subclass of the abstract`Feature`\n",
    " class, encapsulates numeric interpretation features of a grammar. These features are assigned to productions that exclusively derive strings composed of the characters [0-9], '.', and '-'. The feature value returned corresponds to the maximum floating-point numeric interpretation of the derived strings of a production."
   ]
  },
  {
   "cell_type": "code",
   "execution_count": null,
   "id": "30715986",
   "metadata": {},
   "outputs": [],
   "source": [
    "from fuzzingbook.GrammarFuzzer import tree_to_string\n",
    "from numpy import nanmax, isnan\n",
    "\n",
    "class NumericInterpretation(Feature):\n",
    "    '''\n",
    "    This class represents numeric interpretation features of a grammar. These features\n",
    "    are defined for productions that exclusively derive words composed of the characters\n",
    "    [0-9], '.', and '-'. The feature value returned corresponds to the maximum\n",
    "    floating-point numeric interpretation of the derived words of a production.\n",
    "\n",
    "    Args:\n",
    "        name : A unique identifier name for this feature. It should not contain white spaces. \n",
    "               For example, 'num(<integer>)'.\n",
    "        rule : The production rule associated with this feature.\n",
    "    '''\n",
    "    def __init__(self, name: str, rule: str) -> None:\n",
    "        super().__init__(name, rule, rule)\n",
    "    \n",
    "    def __repr__(self) -> str:\n",
    "        '''Returns a string representation of the feature.'''\n",
    "        return f\"num({self.key})\"\n",
    "    \n",
    "    def get_feature_value(self, derivation_tree) -> float:\n",
    "        '''Computes and returns the feature value based on a given derivation tree of an input.'''\n",
    "        raise NotImplementedError  # This method needs to be implemented for the feature collection task\n"
   ]
  },
  {
   "cell_type": "markdown",
   "id": "f5a47cef",
   "metadata": {},
   "source": [
    "## Task 1: Extracting the feature sets from the grammar"
   ]
  },
  {
   "cell_type": "markdown",
   "id": "1e2fc1ac",
   "metadata": {},
   "source": [
    "#### Task 1.1 Existence Feature"
   ]
  },
  {
   "cell_type": "markdown",
   "id": "2279c39c",
   "metadata": {},
   "source": [
    "<div class=\"alert alert-success alertsuccess\">\n",
    "[Task] Implement the function <i>extract_existence()</i>. This function should extract all existence features from a given grammar and return them in a list.\n",
    "</div>"
   ]
  },
  {
   "cell_type": "code",
   "execution_count": null,
   "id": "d6182d73",
   "metadata": {},
   "outputs": [],
   "source": [
    "def extract_existence_features(grammar: Grammar) -> List[ExistenceFeature]:\n",
    "    '''\n",
    "    Extracts all existence features from a given grammar and returns them in a list.\n",
    "\n",
    "    Args:\n",
    "        grammar: The input grammar from which to extract features.\n",
    "\n",
    "    Returns:\n",
    "        A list of existence features extracted from the grammar.\n",
    "    '''\n",
    "    \n",
    "    # Your code goes here\n",
    "    raise NotImplementedError(\"extract_existence_features: Function not yet implemented.\")"
   ]
  },
  {
   "cell_type": "markdown",
   "id": "93a58a2e",
   "metadata": {},
   "source": [
    "The goal of this function is to parse the input grammar and create an `ExistenceFeature` object for each rule and alternative in the grammar. These objects should be stored in a list which is then returned. The specifics of this list of Existence feautres depend on the structure and details of your grammar and feature classes."
   ]
  },
  {
   "cell_type": "markdown",
   "id": "25eeb9a8",
   "metadata": {},
   "source": [
    "#### Task 1.2: NumericInterpretation Feature"
   ]
  },
  {
   "cell_type": "markdown",
   "id": "350e4463",
   "metadata": {},
   "source": [
    "<div class=\"alert alert-success alertsuccess\">\n",
    "[Task] Implement the function <i>extract_numeric()</i>. This function should extract all numeric interpretation features from the provided grammar and return them as a list.\n",
    "</div>"
   ]
  },
  {
   "cell_type": "code",
   "execution_count": null,
   "id": "19ab1115",
   "metadata": {},
   "outputs": [],
   "source": [
    "def extract_numeric_features(grammar: Grammar) -> List[NumericInterpretation]:\n",
    "    '''\n",
    "    Extracts all numeric interpretation features from a given grammar and returns them in a list.\n",
    "\n",
    "    Args:\n",
    "        grammar: The input grammar from which to extract features.\n",
    "\n",
    "    Returns:\n",
    "        A list of numeric interpretation features extracted from the grammar.\n",
    "    '''\n",
    "    \n",
    "    # Your code goes here\n",
    "    raise NotImplementedError(\"extract_numeric_features: Function not yet implemented.\")\n"
   ]
  },
  {
   "cell_type": "markdown",
   "id": "b6b821da",
   "metadata": {},
   "source": [
    "The goal of this function is to parse the input grammar and create a `NumericInterpretation` object for each rule and alternative in the grammar that can be interpreted as a numeric value. These objects should be stored in a list which is then returned. The specifics of how this is done will depend on the structure and details of your grammar and feature classes."
   ]
  },
  {
   "cell_type": "markdown",
   "id": "4764d71b",
   "metadata": {},
   "source": [
    "<div class=\"alert alert-danger\" role=\"alert\">\n",
    "[Note] Regarding the 'Feature.name' attribute, ensure to utilize a unique identifier that does not include any whitespaces. For instance, you might choose an identifier name similar to 'exists(&lt;feature&gt;@1)' or 'exists(&lt;digit&gt;@0)'. In this context, '@i' represents the i-th derivation alternative of a rule.\n",
    "\n",
    "For example, exists(&lt;digit&gt;@0) correspondes to exists(&lt;digit&gt; == 0), or exists(&lt;feature&gt;@1) corresponds to exists(&lt;feature&gt; == tan). These identifiers are employed to expedite the parsing process. The friendly representation of 'exists({self.rule} == {self.key})' is primarily intended for human readability, providing an easier understanding. \n",
    "</div>"
   ]
  },
  {
   "cell_type": "markdown",
   "id": "b0cb83ab",
   "metadata": {},
   "source": [
    "The function `get_all_features()` combines the functionalities of extract_existence and extract_numeric functions to generate a comprehensive list of features from a given grammar."
   ]
  },
  {
   "cell_type": "code",
   "execution_count": null,
   "id": "b03a5551",
   "metadata": {},
   "outputs": [],
   "source": [
    "def get_all_features(grammar: Grammar) -> List[Feature]:\n",
    "    return extract_existence(grammar) + extract_numeric(grammar)"
   ]
  },
  {
   "cell_type": "markdown",
   "id": "1faf129e",
   "metadata": {},
   "source": [
    "Subsequently, we can output all the extracted features to gain insights into the structure and numerical implications of the grammar rules. In the output, you'll be able to see each feature related to the calculator grammar, providing a deeper understanding of its structure and properties."
   ]
  },
  {
   "cell_type": "code",
   "execution_count": null,
   "id": "34ab36ae",
   "metadata": {},
   "outputs": [],
   "source": [
    "for feature in get_all_features(calculator_grammar):\n",
    "    # transform your feautre objects to strings (this will call the __repr__() function)\n",
    "    print(str(feature))"
   ]
  },
  {
   "cell_type": "markdown",
   "id": "9fceca2a",
   "metadata": {},
   "source": [
    "## Test 1: Confirm that you have extracted the right number of features"
   ]
  },
  {
   "cell_type": "code",
   "execution_count": null,
   "id": "46e508b5",
   "metadata": {},
   "outputs": [],
   "source": [
    "def test_features(features: List[Feature]) -> None:\n",
    "    existence_features = 0\n",
    "    numeric_features = 0\n",
    "    \n",
    "    for feature in features:\n",
    "        if isinstance(feature, ExistenceFeature):\n",
    "            existence_features += 1\n",
    "        elif isinstance(feature, NumericInterpretation):\n",
    "            numeric_features += 1\n",
    "            \n",
    "    assert(existence_features == 27)\n",
    "    assert(numeric_features == 4)\n",
    "    \n",
    "    expected_feature_names = {\"exists(<start>)\",\n",
    "        \"exists(<start> == <function>(<term>))\",\n",
    "        \"exists(<function>)\",\n",
    "        \"exists(<function> == sqrt)\",\n",
    "        \"exists(<function> == tan)\",\n",
    "        \"exists(<function> == cos)\",\n",
    "        \"exists(<function> == sin)\",\n",
    "        \"exists(<term>)\",\n",
    "        \"exists(<term> == -<value>)\",\n",
    "        \"exists(<term> == <value>)\",\n",
    "        \"exists(<value>)\",\n",
    "        \"exists(<value> == <integer>.<integer>)\",\n",
    "        \"exists(<value> == <integer>)\",\n",
    "        \"exists(<integer>)\",\n",
    "        \"exists(<integer> == <digit><integer>)\",\n",
    "        \"exists(<integer> == <digit>)\",\n",
    "        \"exists(<digit>)\",\n",
    "        \"exists(<digit> == 0)\", \n",
    "        \"exists(<digit> == 1)\",\n",
    "        \"exists(<digit> == 2)\",\n",
    "        \"exists(<digit> == 3)\",\n",
    "        \"exists(<digit> == 4)\",\n",
    "        \"exists(<digit> == 5)\",\n",
    "        \"exists(<digit> == 6)\",\n",
    "        \"exists(<digit> == 7)\",\n",
    "        \"exists(<digit> == 8)\",\n",
    "        \"exists(<digit> == 9)\",\n",
    "        \"num(<term>)\",\n",
    "        \"num(<value>)\",\n",
    "        \"num(<digit>)\",\n",
    "        \"num(<integer>)\"\n",
    "    }\n",
    "    \n",
    "    actual_feature_names = set([str(f) for f in features])\n",
    "    \n",
    "    for feature_name in expected_feature_names:\n",
    "        assert (feature_name in actual_feature_names), f\"Missing feature with name: {feature_name}\"\n",
    "        \n",
    "    for feature_name in actual_feature_names:\n",
    "        assert (feature_name in expected_feature_names), f\"Missing feature with name: {feature_name}\"\n",
    "        \n",
    "    print(\"All checks passed!\")"
   ]
  },
  {
   "cell_type": "code",
   "execution_count": null,
   "id": "c5e611ea",
   "metadata": {},
   "outputs": [],
   "source": [
    "if __name__ == \"__main__\":\n",
    "    test_features(get_all_features(calculator_grammar))"
   ]
  },
  {
   "cell_type": "markdown",
   "id": "a16cf68a",
   "metadata": {},
   "source": [
    "## Task 2:  Extracting Feature Vectors from Inputs"
   ]
  },
  {
   "cell_type": "markdown",
   "id": "09ffdee7",
   "metadata": {},
   "source": [
    "<div class=\"alert alert-success alertsuccess\">\n",
    "[Task] Implement the function <i>collect_features(sample_list, grammar)</i>. The function should parse all inputs from a list of samples into its features.\n",
    "</div>"
   ]
  },
  {
   "cell_type": "markdown",
   "id": "7651fbdc",
   "metadata": {},
   "source": [
    "**INPUT**:\n",
    "the function requires the following parameter:\n",
    "- sample_list: a list of samples that should be parsed\n",
    "- grammar: the corresponding grammar of the syntactical features"
   ]
  },
  {
   "cell_type": "markdown",
   "id": "41a5bee2",
   "metadata": {},
   "source": [
    "**OUTPUT**: the function should return a pandas Dataframe of the parsed features for all inputs in the sample list:"
   ]
  },
  {
   "cell_type": "markdown",
   "id": "4785cb9c",
   "metadata": {},
   "source": [
    "|sample| feature_1     | feature_2     | ...    |feature_n|\n",
    "|-------------|------------- |-------------|-------------|-----|\n",
    "|sqrt(-900)| 1     | 0 | ...| -900 |\n",
    "|cos(20)| 0     | 1 | ...| 20 |"
   ]
  },
  {
   "cell_type": "markdown",
   "id": "3838aba6",
   "metadata": {},
   "source": [
    "<div class=\"alert alert-info\">\n",
    "[Hint]: It might be usefull to use the implement the abstract functions get_feature_value(self, derivation_tree) of the Feature class for each of the feature types (Existence, Numeric). Given a derivation tree, these functions return the value of the feature.\n",
    "</div>"
   ]
  },
  {
   "cell_type": "code",
   "execution_count": null,
   "id": "23dd2996",
   "metadata": {},
   "outputs": [],
   "source": [
    "class ExistenceFeature(ExistenceFeature):\n",
    "    \n",
    "    def get_feature_value(self, derivation_tree) -> float:\n",
    "        '''Computes and returns the feature value based on a given derivation tree of an input.'''\n",
    "        raise NotImplementedError  # You need to implement this method for the feature collection task"
   ]
  },
  {
   "cell_type": "code",
   "execution_count": null,
   "id": "f2e5c036",
   "metadata": {},
   "outputs": [],
   "source": [
    "class NumericInterpretation(NumericInterpretation):\n",
    "    \n",
    "    def get_feature_value(self, derivation_tree) -> float:\n",
    "        '''Computes and returns the feature value based on a given derivation tree of an input.'''\n",
    "        raise NotImplementedError  # This method needs to be implemented for the feature collection task"
   ]
  },
  {
   "cell_type": "markdown",
   "id": "ef2ae52b",
   "metadata": {},
   "source": [
    "This task requires you to define the collect_features function. This function takes in a list of input samples and a grammar, and extracts a DataFrame representing the feature vectors for each input."
   ]
  },
  {
   "cell_type": "code",
   "execution_count": null,
   "id": "e8395c10",
   "metadata": {},
   "outputs": [],
   "source": [
    "from fuzzingbook.Parser import EarleyParser\n",
    "from fuzzingbook.Grammars import Grammar\n",
    "from pandas import DataFrame\n",
    "\n",
    "def collect_features(sample_list: List[str],\n",
    "                     grammar: Grammar) -> DataFrame:\n",
    "    \n",
    "    # write your code here\n",
    "    raise NotImplementedError(\"Func. collect_features: Function not Implemented\")"
   ]
  },
  {
   "cell_type": "markdown",
   "id": "e478ccd6",
   "metadata": {},
   "source": [
    "To illustrate the utility of this function, we'll take a sample list of inputs for a calculator application, [\"sqrt(-900)\", \"sin(24)\", \"cos(-3.14)\"], and extract their respective feature vectors using the calculator_grammar.\n",
    "\n",
    "The `feature_data` object will now contain the feature vectors for each sample, providing a structured and digestible epresentation of their properties as they relate to the specified grammar."
   ]
  },
  {
   "cell_type": "code",
   "execution_count": null,
   "id": "50831539",
   "metadata": {},
   "outputs": [],
   "source": [
    "sample_list = [\"sqrt(-900)\", \"sin(24)\", \"cos(-3.14)\"]\n",
    "feature_data = collect_features(sample_list, calculator_grammar)\n",
    "\n",
    "display(feature_data)"
   ]
  },
  {
   "cell_type": "markdown",
   "id": "c8fe5ec3",
   "metadata": {},
   "source": [
    "## Test 2: Check whether we produce the correct feature values"
   ]
  },
  {
   "cell_type": "code",
   "execution_count": null,
   "id": "1ef5c970",
   "metadata": {},
   "outputs": [],
   "source": [
    "# TODO: Implement max values for multiple parse trees\n",
    "def get_feature_vector(sample, grammar, features):\n",
    "    '''Returns the feature vector of the sample as a dictionary of feature values'''\n",
    "    \n",
    "    feature_dict = defaultdict(int)\n",
    "    \n",
    "    earley = EarleyParser(grammar)\n",
    "    for tree in earley.parse(sample):\n",
    "        for feature in features:\n",
    "            feature_dict[feature.name] = feature.get_feature_value(tree)\n",
    "    \n",
    "    return feature_dict\n",
    "\n",
    "from sklearn.feature_extraction import DictVectorizer\n",
    "import pandas as pd\n",
    "\n",
    "# Features for each input, one dict per input\n",
    "feature_vectors = [get_feature_vector(sample, calculator_grammar, get_all_features(calculator_grammar)) for sample in sample_list]\n",
    "\n",
    "# Transform to numpy array\n",
    "vec = DictVectorizer()\n",
    "X = vec.fit_transform(feature_vectors).toarray()\n",
    "\n",
    "df2 = pd.DataFrame(X, columns = vec.get_feature_names_out())\n",
    "\n",
    "# Check if both dataframes are equal by element-wise comparing each column\n",
    "if __name__ == \"__main__\":\n",
    "    assert all(map(lambda col: all(feature_data[col] == df2[col]), df2.head()))"
   ]
  },
  {
   "cell_type": "code",
   "execution_count": null,
   "id": "24dd1055",
   "metadata": {},
   "outputs": [],
   "source": [
    "# TODO: handle multiple trees\n",
    "from fuzzingbook.Parser import EarleyParser\n",
    "\n",
    "def compute_feature_values(sample: str, grammar: Grammar, features: List[Feature]) -> Dict[str, float]:\n",
    "    '''\n",
    "        Extracts all feature values from an input.\n",
    "        \n",
    "        sample   : The input.\n",
    "        grammar  : The input grammar.\n",
    "        features : The list of input features extracted from the grammar.\n",
    "        \n",
    "    '''\n",
    "    earley = EarleyParser(calculator_grammar)\n",
    "    \n",
    "    features = {}\n",
    "    for tree in earley.parse(sample):\n",
    "        for feature in get_all_features(calculator_grammar):\n",
    "            features[feature.name_rep()] = feature.get_feature_value(tree)\n",
    "    return features"
   ]
  },
  {
   "cell_type": "code",
   "execution_count": null,
   "id": "3933c1d5",
   "metadata": {},
   "outputs": [],
   "source": [
    "def test_feature_values() -> None:\n",
    "\n",
    "    sample_list = [\"sqrt(-900)\", \"sin(24)\", \"cos(-3.14)\"]\n",
    "\n",
    "    expected_feature_values = {\n",
    "        \"sqrt(-900)\": {\n",
    "            \"exists(<start>)\" : 1,\n",
    "            \"exists(<start> == <function>(<term>))\" : 1,\n",
    "            \"exists(<function>)\" : 1,\n",
    "            \"exists(<function> == sqrt)\" : 1,\n",
    "            \"exists(<function> == tan)\" : 0,\n",
    "            \"exists(<function> == cos)\" : 0,\n",
    "            \"exists(<function> == sin)\" : 0,\n",
    "            \"exists(<term>)\" : 1,\n",
    "            \"exists(<term> == -<value>)\" : 1,\n",
    "            \"exists(<term> == <value>)\" : 0,\n",
    "            \"exists(<value>)\" : 1,\n",
    "            \"exists(<value> == <integer>.<integer>)\" : 0,\n",
    "            \"exists(<value> == <integer>)\" : 1,\n",
    "            \"exists(<integer>)\" : 1,\n",
    "            \"exists(<integer> == <digit><integer>)\" : 1,\n",
    "            \"exists(<integer> == <digit>)\" : 1,\n",
    "            \"exists(<digit>)\" : 1,\n",
    "            \"exists(<digit> == 0)\" : 1,\n",
    "            \"exists(<digit> == 1)\" : 0,\n",
    "            \"exists(<digit> == 2)\" : 0,\n",
    "            \"exists(<digit> == 3)\" : 0,\n",
    "            \"exists(<digit> == 4)\" : 0,\n",
    "            \"exists(<digit> == 5)\" : 0,\n",
    "            \"exists(<digit> == 6)\" : 0,\n",
    "            \"exists(<digit> == 7)\" : 0,\n",
    "            \"exists(<digit> == 8)\" : 0,\n",
    "            \"exists(<digit> == 9)\" : 1,\n",
    "            \"num(<term>)\" : -900.0,\n",
    "            \"num(<value>)\" : 900.0,\n",
    "            \"num(<digit>)\" : 9.0,\n",
    "            \"num(<integer>)\" : 900.0\n",
    "        }, \n",
    "        \"sin(24)\": {\n",
    "            \"exists(<start>)\" : 1,\n",
    "            \"exists(<start> == <function>(<term>))\" : 1,\n",
    "            \"exists(<function>)\" : 1,\n",
    "            \"exists(<function> == sqrt)\" : 0,\n",
    "            \"exists(<function> == tan)\" : 0,\n",
    "            \"exists(<function> == cos)\" : 0,\n",
    "            \"exists(<function> == sin)\" : 1,\n",
    "            \"exists(<term>)\" : 1,\n",
    "            \"exists(<term> == -<value>)\" : 0,\n",
    "            \"exists(<term> == <value>)\" : 1,\n",
    "            \"exists(<value>)\" : 1,\n",
    "            \"exists(<value> == <integer>.<integer>)\" : 0,\n",
    "            \"exists(<value> == <integer>)\" : 1,\n",
    "            \"exists(<integer>)\" : 1,\n",
    "            \"exists(<integer> == <digit><integer>)\" : 1,\n",
    "            \"exists(<integer> == <digit>)\" : 1,\n",
    "            \"exists(<digit>)\" : 1,\n",
    "            \"exists(<digit> == 0)\" : 0,\n",
    "            \"exists(<digit> == 1)\" : 0,\n",
    "            \"exists(<digit> == 2)\" : 1,\n",
    "            \"exists(<digit> == 3)\" : 0,\n",
    "            \"exists(<digit> == 4)\" : 1,\n",
    "            \"exists(<digit> == 5)\" : 0,\n",
    "            \"exists(<digit> == 6)\" : 0,\n",
    "            \"exists(<digit> == 7)\" : 0,\n",
    "            \"exists(<digit> == 8)\" : 0,\n",
    "            \"exists(<digit> == 9)\" : 0,\n",
    "            \"num(<term>)\" : 24.0,\n",
    "            \"num(<value>)\" : 24.0,\n",
    "            \"num(<digit>)\" : 4.0,\n",
    "            \"num(<integer>)\" : 24.0\n",
    "        },\n",
    "        \"cos(-3.14)\": {\n",
    "            \"exists(<start>)\" : 1,\n",
    "            \"exists(<start> == <function>(<term>))\" : 1,\n",
    "            \"exists(<function>)\" : 1,\n",
    "            \"exists(<function> == sqrt)\" : 0,\n",
    "            \"exists(<function> == tan)\" : 0,\n",
    "            \"exists(<function> == cos)\" : 1,\n",
    "            \"exists(<function> == sin)\" : 0,\n",
    "            \"exists(<term>)\" : 1,\n",
    "            \"exists(<term> == -<value>)\" : 1,\n",
    "            \"exists(<term> == <value>)\" : 0,\n",
    "            \"exists(<value>)\" : 1,\n",
    "            \"exists(<value> == <integer>.<integer>)\" : 1,\n",
    "            \"exists(<value> == <integer>)\" : 0,\n",
    "            \"exists(<integer>)\" : 1,\n",
    "            \"exists(<integer> == <digit><integer>)\" : 1,\n",
    "            \"exists(<integer> == <digit>)\" : 1,\n",
    "            \"exists(<digit>)\" : 1,\n",
    "            \"exists(<digit> == 0)\" : 0,\n",
    "            \"exists(<digit> == 1)\" : 1,\n",
    "            \"exists(<digit> == 2)\" : 0,\n",
    "            \"exists(<digit> == 3)\" : 1,\n",
    "            \"exists(<digit> == 4)\" : 1,\n",
    "            \"exists(<digit> == 5)\" : 0,\n",
    "            \"exists(<digit> == 6)\" : 0,\n",
    "            \"exists(<digit> == 7)\" : 0,\n",
    "            \"exists(<digit> == 8)\" : 0,\n",
    "            \"exists(<digit> == 9)\" : 0,\n",
    "            \"num(<term>)\" : -3.14,\n",
    "            \"num(<value>)\" : 3.14,\n",
    "            \"num(<digit>)\" : 4.0,\n",
    "            \"num(<integer>)\" : 14.0\n",
    "        }\n",
    "    }\n",
    "\n",
    "    all_features = get_all_features(calculator_grammar)\n",
    "    for sample in sample_list:\n",
    "        input_features = compute_feature_values(sample, calculator_grammar, all_features)\n",
    "\n",
    "        for feature in all_features:\n",
    "            key = feature.name_rep()\n",
    "            #print(f\"\\t{key.ljust(50)}: {input_features[key]}\")\n",
    "            #print('\"' + key + '\"' + ' : ' + str(input_features[key]) + ',')\n",
    "            expected = expected_feature_values[sample][key]\n",
    "            actual = input_features[key]\n",
    "            assert (expected == actual), f\"Wrong feature value for sample {sample} and feature {key}: expected {expected} but is {actual}.\"\n",
    "            \n",
    "    print(\"All checks passed!\")"
   ]
  },
  {
   "cell_type": "code",
   "execution_count": null,
   "id": "1f79122d",
   "metadata": {},
   "outputs": [],
   "source": [
    "if __name__ == \"__main__\":\n",
    "    test_feature_values()"
   ]
  },
  {
   "cell_type": "code",
   "execution_count": null,
   "id": "2889b966",
   "metadata": {},
   "outputs": [],
   "source": []
  }
 ],
 "metadata": {
  "kernelspec": {
   "display_name": "Python 3 (ipykernel)",
   "language": "python",
   "name": "python3"
  },
  "language_info": {
   "codemirror_mode": {
    "name": "ipython",
    "version": 3
   },
   "file_extension": ".py",
   "mimetype": "text/x-python",
   "name": "python",
   "nbconvert_exporter": "python",
   "pygments_lexer": "ipython3",
   "version": "3.10.9"
  }
 },
 "nbformat": 4,
 "nbformat_minor": 5
}
