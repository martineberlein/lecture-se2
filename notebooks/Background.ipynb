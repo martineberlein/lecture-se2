{
 "cells": [
  {
   "cell_type": "markdown",
   "id": "ea581421",
   "metadata": {},
   "source": [
    "# More Background\n",
    "<hr/>"
   ]
  },
  {
   "cell_type": "markdown",
   "id": "c9baf217",
   "metadata": {},
   "source": [
    "<div class=\"alert alert-info\">\n",
    "[Info]: We use the functionallity provided by <a href=\"https://www.fuzzingbook.org\">The Fuzzingbook</a>. For a more detailed description of Grammars, have a look at the chapter <a href=\"https://www.fuzzingbook.org/html/Grammars.html\">Fuzzing with Grammars</a>.\n",
    "</div>"
   ]
  },
  {
   "cell_type": "markdown",
   "id": "d5074985",
   "metadata": {},
   "source": [
    "<div class=\"alert alert-success alertsuccess\">\n",
    "[Tip]: To execute the Python code in the code cell below, click on the cell to select it and press <kbd>Shift</kbd> + <kbd>Enter</kbd>.\n",
    "</div>"
   ]
  },
  {
   "cell_type": "code",
   "execution_count": null,
   "id": "222d5ae0",
   "metadata": {},
   "outputs": [],
   "source": [
    "print(\"Hello, this is a notebook!\")"
   ]
  },
  {
   "cell_type": "code",
   "execution_count": null,
   "id": "e7a18b0e",
   "metadata": {},
   "outputs": [],
   "source": [
    "from typing import List, Dict, Union, Any, Tuple, Optional\n",
    "from fuzzingbook import Fuzzer\n",
    "from fuzzingbook.Grammars import Grammar, Expansion"
   ]
  },
  {
   "cell_type": "markdown",
   "id": "e64c20d2",
   "metadata": {},
   "source": [
    "## Input Languages"
   ]
  },
  {
   "cell_type": "markdown",
   "id": "dc5f3686",
   "metadata": {},
   "source": [
    "All possible behaviors of a program can be triggered by its input.  \"Input\" here can be a wide range of possible sources: We are talking about data that is read from files, from the environment, or over the network, data input by the user, or data acquired from interaction with other resources.  The set of all these inputs determines how the program will behave – including its failures.  When testing, it is thus very helpful to think about possible input sources, how to get them under control, and _how to systematically test them_.\n",
    "\n",
    "For the sake of simplicity, we will assume for now that the program has only one source of inputs; this is the same assumption we have been using in the previous chapters, too.  The set of valid inputs to a program is called a _language_.  Languages range from the simple to the complex: the CSV language denotes the set of valid comma-separated inputs, whereas the Python language denotes the set of valid Python programs.  We commonly separate data languages and programming languages, although any program can also be treated as input data (say, to a compiler).  The [Wikipedia page on file formats](https://en.wikipedia.org/wiki/List_of_file_formats) lists more than 1,000 different file formats, each of which is its own language.\n",
    "\n",
    "To formally describe languages, the field of *formal languages* has devised a number of *language specifications* that describe a language.  *Regular expressions* represent the simplest class of these languages to denote sets of strings: The regular expression `[a-z]*`, for instance, denotes a (possibly empty) sequence of lowercase letters.  *Automata theory* connects these languages to automata that accept these inputs; *finite state machines*, for instance, can be used to specify the language of regular expressions.\n",
    "\n",
    "Regular expressions are great for not-too-complex input formats, and the associated finite state machines have many properties that make them great for reasoning.  To specify more complex inputs, though, they quickly encounter limitations.  At the other end of the language spectrum, we have *universal grammars* that denote the language accepted by *Turing machines*.  A Turing machine can compute anything that can be computed; and with Python being Turing-complete, this means that we can also use a Python program $p$ to specify or even enumerate legal inputs.  But then, computer science theory also tells us that each such testing program has to be written specifically for the program to be tested, which is not the level of automation we want.\n",
    "\n",
    "## Grammars\n",
    "\n",
    "The middle ground between regular expressions and Turing machines is covered by *grammars*.  Grammars are among the most popular (and best understood) formalisms to formally specify input languages.  Using a grammar, one can express a wide range of the properties of an input language.  Grammars are particularly great for expressing the *syntactical structure* of an input, and are the formalism of choice to express nested or recursive inputs.  The grammars we use are so-called *context-free grammars*, one of the easiest and most popular grammar formalisms.\n",
    "\n",
    "### Rules and Expansions\n",
    "\n",
    "A grammar consists of a *start symbol* and a set of *expansion rules* (or simply *rules*) which indicate how the start symbol (and other symbols) can be expanded.  As an example, consider the following grammar, denoting a sequence of two digits:\n",
    "\n",
    "```\n",
    "<start> ::= <digit><digit>\n",
    "<digit> ::= 0 | 1 | 2 | 3 | 4 | 5 | 6 | 7 | 8 | 9\n",
    "```\n",
    "\n",
    "To read such a grammar, start with the start symbol (`<start>`).  An expansion rule `<A> ::= <B>` means that the symbol on the left side (`<A>`) can be replaced by the string on the right side (`<B>`).  In the above grammar, `<start>` would be replaced by `<digit><digit>`.\n",
    "\n",
    "In this string again, `<digit>` would be replaced by the string on the right side of the `<digit>` rule.  The special operator `|` denotes *expansion alternatives* (or simply *alternatives*), meaning that any of the digits can be chosen for an expansion.  Each `<digit>` thus would be expanded into one of the given digits, eventually yielding a string between `00` and `99`.  There are no further expansions for `0` to `9`, so we are all set.\n",
    "\n",
    "The interesting thing about grammars is that they can be *recursive*. That is, expansions can make use of symbols expanded earlier – which would then be expanded again.  As an example, consider a grammar that describes integers:\n",
    "\n",
    "```\n",
    "<start>  ::= <integer>\n",
    "<integer> ::= <digit> | <digit><integer>\n",
    "<digit>   ::= 0 | 1 | 2 | 3 | 4 | 5 | 6 | 7 | 8 | 9\n",
    "```\n",
    "\n",
    "Here, a `<integer>` is either a single digit, or a digit followed by another integer.  The number `1234` thus would be represented as a single digit `1`, followed by the integer `234`, which in turn is a digit `2`, followed by the integer `34`.\n",
    "\n",
    "If we wanted to express that an integer can be preceded by a sign (`+` or `-`), we would write the grammar as\n",
    "\n",
    "```\n",
    "<start>   ::= <number>\n",
    "<number>  ::= <integer> | +<integer> | -<integer>\n",
    "<integer> ::= <digit> | <digit><integer>\n",
    "<digit>   ::= 0 | 1 | 2 | 3 | 4 | 5 | 6 | 7 | 8 | 9\n",
    "```\n",
    "\n",
    "These rules formally define the language: Anything that can be derived from the start symbol is part of the language; anything that cannot is not."
   ]
  },
  {
   "cell_type": "markdown",
   "id": "04a0a7e7",
   "metadata": {},
   "source": [
    "### Arithmetic Expressions\n",
    "\n",
    "Let us expand our grammar to cover full *arithmetic expressions* – a poster child example for a grammar.  We see that an expression (`<expr>`) is either a sum, or a difference, or a term; a term is either a product or a division, or a factor; and a factor is either a number or a parenthesized expression.  Almost all rules can have recursion, and thus allow arbitrary complex expressions such as `(1 + 2) * (3.4 / 5.6 - 789)`.\n",
    "\n",
    "```\n",
    "<start>   ::= <expr>\n",
    "<expr>    ::= <term> + <expr> | <term> - <expr> | <term>\n",
    "<term>    ::= <term> * <factor> | <term> / <factor> | <factor>\n",
    "<factor>  ::= +<factor> | -<factor> | (<expr>) | <integer> | <integer>.<integer>\n",
    "<integer> ::= <digit><integer> | <digit>\n",
    "<digit>   ::= 0 | 1 | 2 | 3 | 4 | 5 | 6 | 7 | 8 | 9\n",
    "```\n",
    "\n",
    "In such a grammar, if we start with `<start>` and then expand one symbol after another, randomly choosing alternatives, we can quickly produce one valid arithmetic expression after another.  Such *grammar fuzzing* is highly effective as it comes to produce complex inputs, and this is what we will implement in this chapter."
   ]
  },
  {
   "cell_type": "markdown",
   "id": "e43a95d9",
   "metadata": {},
   "source": [
    "## Representing Grammars in Python\n",
    "\n",
    "Our first step in building a grammar fuzzer is to find an appropriate format for grammars.  To make the writing of grammars as simple as possible, we use a format that is based on strings and lists.  Our grammars in Python take the format of a _mapping_ between symbol names and expansions, where expansions are _lists_ of alternatives.  A one-rule grammar for digits thus takes the form"
   ]
  },
  {
   "cell_type": "code",
   "execution_count": null,
   "id": "d58b8d72",
   "metadata": {},
   "outputs": [],
   "source": [
    "DIGIT_GRAMMAR = {\n",
    "    \"<start>\":\n",
    "        [\"0\", \"1\", \"2\", \"3\", \"4\", \"5\", \"6\", \"7\", \"8\", \"9\"]\n",
    "}"
   ]
  },
  {
   "cell_type": "markdown",
   "id": "a7eb05f4",
   "metadata": {},
   "source": [
    "We can capture the grammar structure in a _`Grammar`_ type, in which each symbol (a string) is mapped to a list of expansions (strings):"
   ]
  },
  {
   "cell_type": "code",
   "execution_count": null,
   "id": "8161acc7",
   "metadata": {},
   "outputs": [],
   "source": [
    "Grammar = Dict[str, List[Expansion]]"
   ]
  },
  {
   "cell_type": "markdown",
   "id": "53953777",
   "metadata": {},
   "source": [
    "With this `Grammar` type, the full grammar for arithmetic expressions looks like this:"
   ]
  },
  {
   "cell_type": "code",
   "execution_count": null,
   "id": "852165c8",
   "metadata": {},
   "outputs": [],
   "source": [
    "EXPR_GRAMMAR: Grammar = {\n",
    "    \"<start>\":\n",
    "        [\"<expr>\"],\n",
    "\n",
    "    \"<expr>\":\n",
    "        [\"<term> + <expr>\", \"<term> - <expr>\", \"<term>\"],\n",
    "\n",
    "    \"<term>\":\n",
    "        [\"<factor> * <term>\", \"<factor> / <term>\", \"<factor>\"],\n",
    "\n",
    "    \"<factor>\":\n",
    "        [\"+<factor>\",\n",
    "         \"-<factor>\",\n",
    "         \"(<expr>)\",\n",
    "         \"<integer>.<integer>\",\n",
    "         \"<integer>\"],\n",
    "\n",
    "    \"<integer>\":\n",
    "        [\"<digit><integer>\", \"<digit>\"],\n",
    "\n",
    "    \"<digit>\":\n",
    "        [\"0\", \"1\", \"2\", \"3\", \"4\", \"5\", \"6\", \"7\", \"8\", \"9\"]\n",
    "}"
   ]
  },
  {
   "cell_type": "markdown",
   "id": "d2dcfba1",
   "metadata": {},
   "source": [
    "Now, let us use the grammar to produce new inputs. For this task, we import the already implemented `GrammarFuzzer` from the fuzzingbook."
   ]
  },
  {
   "cell_type": "code",
   "execution_count": null,
   "id": "89e021f5",
   "metadata": {},
   "outputs": [],
   "source": [
    "from fuzzingbook.GrammarFuzzer import GrammarFuzzer"
   ]
  },
  {
   "cell_type": "markdown",
   "id": "19ba0154",
   "metadata": {},
   "source": [
    "<div class=\"alert alert-info\">\n",
    "[Info]: We use the functionallity provided by <a href=\"https://www.fuzzingbook.org\">The Fuzzingbook</a>. For a more detailed description of the GrammarFuzzer, have a look at the chapter <a href=\"https://www.fuzzingbook.org/html/GrammarFuzzer.html\">Efficient Grammar Fuzzing</a>.\n",
    "</div>"
   ]
  },
  {
   "cell_type": "code",
   "execution_count": null,
   "id": "e50cb0ab",
   "metadata": {},
   "outputs": [],
   "source": [
    "# Write a GrammarFuzzer that generates inputs with the EXPR GRAMMAR\n",
    "g = GrammarFuzzer(EXPR_GRAMMAR)"
   ]
  },
  {
   "cell_type": "code",
   "execution_count": null,
   "id": "640cd611",
   "metadata": {},
   "outputs": [],
   "source": [
    "# Use g.fuzz to generate arithmetic expressions\n",
    "\n",
    "for i in range(10):\n",
    "    print(g.fuzz())"
   ]
  },
  {
   "cell_type": "code",
   "execution_count": null,
   "id": "1da4b24d",
   "metadata": {},
   "outputs": [],
   "source": [
    "# show the derivation tree with function display_tree(tree)\n",
    "from fuzzingbook.GrammarFuzzer import display_tree\n",
    "\n",
    "print(g.fuzz())\n",
    "print(type(g.derivation_tree))\n",
    "\n",
    "# show the derivation tree with function display_tree(tree)\n",
    "display_tree(g.fuzz_tree())"
   ]
  },
  {
   "cell_type": "markdown",
   "id": "47f46bf0",
   "metadata": {},
   "source": [
    "### Parsing Inputs"
   ]
  },
  {
   "cell_type": "code",
   "execution_count": null,
   "id": "41edc17e",
   "metadata": {},
   "outputs": [],
   "source": [
    "# We can also parse new inputs with the Grammar\n",
    "from fuzzingbook.Parser import EarleyParser\n",
    "\n",
    "parser = EarleyParser(EXPR_GRAMMAR)\n",
    "for tree in parser.parse('1 * 2'):\n",
    "    display(tree)"
   ]
  },
  {
   "cell_type": "code",
   "execution_count": null,
   "id": "8a568a53",
   "metadata": {},
   "outputs": [],
   "source": [
    "# Show derivation tree for 1 * 2\n",
    "display_tree(tree)"
   ]
  },
  {
   "cell_type": "code",
   "execution_count": null,
   "id": "f158fb31",
   "metadata": {},
   "outputs": [],
   "source": [
    "# Turn derivation tree into arithmetic expression with tree_to_string(tree)\n",
    "from fuzzingbook.GrammarFuzzer import tree_to_string\n",
    "\n",
    "tree_to_string(tree)"
   ]
  },
  {
   "cell_type": "code",
   "execution_count": null,
   "id": "90c1a2ba",
   "metadata": {},
   "outputs": [],
   "source": [
    "assert tree_to_string(tree) == '1 * 2'"
   ]
  },
  {
   "cell_type": "markdown",
   "id": "15e0fb2d",
   "metadata": {},
   "source": [
    "## \"Uncommon Input Generation\""
   ]
  },
  {
   "cell_type": "markdown",
   "id": "452f31c7",
   "metadata": {},
   "source": [
    "“Uncommon inputs”: Learning from common samples,\n",
    "the resulting inverted grammar describes in turn the\n",
    "distribution of legal, but uncommon inputs. This is useful\n",
    "for completing test suites by testing uncommon features."
   ]
  },
  {
   "cell_type": "code",
   "execution_count": null,
   "id": "e165d14b",
   "metadata": {},
   "outputs": [],
   "source": [
    "from fuzzingbook.ProbabilisticGrammarFuzzer import ProbabilisticGrammarMiner, ProbabilisticGrammarFuzzer\n",
    "from fuzzingbook.Parser import EarleyParser\n",
    "\n",
    "probabilistic_grammar_miner = ProbabilisticGrammarMiner(\n",
    "    EarleyParser(EXPR_GRAMMAR))\n",
    "\n",
    "learned_probabilistic_grammar = probabilistic_grammar_miner.mine_probabilistic_grammar([\"1 + (2 * 3)\", \"4 * 9\"])\n",
    "\n",
    "fuzzer = ProbabilisticGrammarFuzzer(learned_probabilistic_grammar)\n",
    "\n",
    "for i in range(10):\n",
    "    print(fuzzer.fuzz())"
   ]
  },
  {
   "cell_type": "markdown",
   "id": "447bbf23",
   "metadata": {},
   "source": [
    "<div class=\"alert alert-danger\">\n",
    "[Info]: In their paper \"<a href=\"https://publications.cispa.saarland/3167/7/inputs-from-hell.pdf\">Inputs from Hell</a>\", Sorumekun et al. use a different 'inverting' strategy.</a>\n",
    "</div>"
   ]
  },
  {
   "cell_type": "code",
   "execution_count": null,
   "id": "37edc9cc",
   "metadata": {},
   "outputs": [],
   "source": [
    "from fuzzingbook.ProbabilisticGrammarFuzzer import invert_probs\n",
    "\n",
    "import copy\n",
    "\n",
    "def exp_prob(expansion: Expansion) -> float:\n",
    "    \"\"\"Return the options of an expansion\"\"\"\n",
    "    return exp_opt(expansion, 'prob')\n",
    "\n",
    "def invert_expansion(expansion: List[Expansion]) -> List[Expansion]:\n",
    "    def sort_by_prob(x: Tuple[int, float]) -> float:\n",
    "        index, prob = x\n",
    "        return prob if prob is not None else 0.0\n",
    "\n",
    "    inverted_expansion: List[Expansion] = copy.deepcopy(expansion)\n",
    "    indexes_and_probs = [(index, exp_prob(alternative))\n",
    "                         for index, alternative in enumerate(expansion)]\n",
    "    print(indexes_and_probs)\n",
    "    indexes_and_probs.sort(key=sort_by_prob)\n",
    "    indexes = [i for (i, _) in indexes_and_probs]\n",
    "\n",
    "    for j in range(len(indexes)):\n",
    "        k = len(indexes) - 1 - j\n",
    "        # print(indexes[j], \"gets\", indexes[k])\n",
    "        inverted_expansion[indexes[j]][1]['prob'] = expansion[indexes[k]][1]['prob']\n",
    "\n",
    "    return inverted_expansion"
   ]
  },
  {
   "cell_type": "code",
   "execution_count": null,
   "id": "b2a187b4",
   "metadata": {},
   "outputs": [],
   "source": [
    "inverted_grammar = invert_probs(learned_probabilistic_grammar)\n",
    "display(inverted_grammar)"
   ]
  },
  {
   "cell_type": "code",
   "execution_count": null,
   "id": "2d0658e0",
   "metadata": {},
   "outputs": [],
   "source": [
    "inverted_fuzzer = ProbabilisticGrammarFuzzer(inverted_grammar)"
   ]
  },
  {
   "cell_type": "code",
   "execution_count": null,
   "id": "a466597b",
   "metadata": {},
   "outputs": [],
   "source": [
    "for i in range(10):\n",
    "    print(inverted_fuzzer.fuzz())"
   ]
  },
  {
   "cell_type": "code",
   "execution_count": null,
   "id": "9ab74b1e",
   "metadata": {},
   "outputs": [],
   "source": []
  }
 ],
 "metadata": {
  "kernelspec": {
   "display_name": "Python 3 (ipykernel)",
   "language": "python",
   "name": "python3"
  },
  "language_info": {
   "codemirror_mode": {
    "name": "ipython",
    "version": 3
   },
   "file_extension": ".py",
   "mimetype": "text/x-python",
   "name": "python",
   "nbconvert_exporter": "python",
   "pygments_lexer": "ipython3",
   "version": "3.12.3"
  }
 },
 "nbformat": 4,
 "nbformat_minor": 5
}
